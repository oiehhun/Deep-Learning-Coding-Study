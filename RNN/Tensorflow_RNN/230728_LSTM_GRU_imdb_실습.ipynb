{
  "cells": [
    {
      "cell_type": "markdown",
      "metadata": {
        "id": "Gxwjx8XOFMdg"
      },
      "source": [
        "# RNN variants"
      ]
    },
    {
      "cell_type": "code",
      "execution_count": 1,
      "metadata": {
        "id": "XmF6xZt0L8SQ"
      },
      "outputs": [
        {
          "name": "stderr",
          "output_type": "stream",
          "text": [
            "2023-07-27 11:17:04.757746: I tensorflow/tsl/cuda/cudart_stub.cc:28] Could not find cuda drivers on your machine, GPU will not be used.\n",
            "2023-07-27 11:17:04.804032: I tensorflow/tsl/cuda/cudart_stub.cc:28] Could not find cuda drivers on your machine, GPU will not be used.\n",
            "2023-07-27 11:17:04.804822: I tensorflow/core/platform/cpu_feature_guard.cc:182] This TensorFlow binary is optimized to use available CPU instructions in performance-critical operations.\n",
            "To enable the following instructions: AVX2 AVX512F FMA, in other operations, rebuild TensorFlow with the appropriate compiler flags.\n",
            "2023-07-27 11:17:05.486234: W tensorflow/compiler/tf2tensorrt/utils/py_utils.cc:38] TF-TRT Warning: Could not find TensorRT\n"
          ]
        }
      ],
      "source": [
        "import os\n",
        "import tensorflow as tf\n",
        "import numpy as np\n",
        "import random\n",
        "SEED = 42\n",
        "os.environ['PYTHONHASHSEED'] = str(SEED)\n",
        "os.environ['TF_DETERMINISTIC_OPS'] = '1'\n",
        "tf.random.set_seed(SEED)\n",
        "np.random.seed(SEED)\n",
        "random.seed(SEED)"
      ]
    },
    {
      "cell_type": "markdown",
      "metadata": {
        "id": "dOnB31CvFMdj"
      },
      "source": [
        "## 1) LSTM"
      ]
    },
    {
      "cell_type": "code",
      "execution_count": 4,
      "metadata": {
        "id": "adSbykuNh0C3"
      },
      "outputs": [],
      "source": [
        "# imdb데이터 로드\n",
        "from tensorflow.keras.datasets import imdb\n",
        "max_features = 10000 # 빈도가 높은 10000개의 단어만 사용\n",
        "(X_train, y_train), (x_test, y_test) = imdb.load_data(num_words=max_features)\n",
        "# X(대문자) : 2차원 배열 / x(소문자) : 1차원 배열로 보통 표현"
      ]
    },
    {
      "cell_type": "code",
      "execution_count": 5,
      "metadata": {},
      "outputs": [
        {
          "data": {
            "text/plain": [
              "array([list([1, 14, 22, 16, 43, 530, 973, 1622, 1385, 65, 458, 4468, 66, 3941, 4, 173, 36, 256, 5, 25, 100, 43, 838, 112, 50, 670, 2, 9, 35, 480, 284, 5, 150, 4, 172, 112, 167, 2, 336, 385, 39, 4, 172, 4536, 1111, 17, 546, 38, 13, 447, 4, 192, 50, 16, 6, 147, 2025, 19, 14, 22, 4, 1920, 4613, 469, 4, 22, 71, 87, 12, 16, 43, 530, 38, 76, 15, 13, 1247, 4, 22, 17, 515, 17, 12, 16, 626, 18, 2, 5, 62, 386, 12, 8, 316, 8, 106, 5, 4, 2223, 5244, 16, 480, 66, 3785, 33, 4, 130, 12, 16, 38, 619, 5, 25, 124, 51, 36, 135, 48, 25, 1415, 33, 6, 22, 12, 215, 28, 77, 52, 5, 14, 407, 16, 82, 2, 8, 4, 107, 117, 5952, 15, 256, 4, 2, 7, 3766, 5, 723, 36, 71, 43, 530, 476, 26, 400, 317, 46, 7, 4, 2, 1029, 13, 104, 88, 4, 381, 15, 297, 98, 32, 2071, 56, 26, 141, 6, 194, 7486, 18, 4, 226, 22, 21, 134, 476, 26, 480, 5, 144, 30, 5535, 18, 51, 36, 28, 224, 92, 25, 104, 4, 226, 65, 16, 38, 1334, 88, 12, 16, 283, 5, 16, 4472, 113, 103, 32, 15, 16, 5345, 19, 178, 32]),\n",
              "       list([1, 194, 1153, 194, 8255, 78, 228, 5, 6, 1463, 4369, 5012, 134, 26, 4, 715, 8, 118, 1634, 14, 394, 20, 13, 119, 954, 189, 102, 5, 207, 110, 3103, 21, 14, 69, 188, 8, 30, 23, 7, 4, 249, 126, 93, 4, 114, 9, 2300, 1523, 5, 647, 4, 116, 9, 35, 8163, 4, 229, 9, 340, 1322, 4, 118, 9, 4, 130, 4901, 19, 4, 1002, 5, 89, 29, 952, 46, 37, 4, 455, 9, 45, 43, 38, 1543, 1905, 398, 4, 1649, 26, 6853, 5, 163, 11, 3215, 2, 4, 1153, 9, 194, 775, 7, 8255, 2, 349, 2637, 148, 605, 2, 8003, 15, 123, 125, 68, 2, 6853, 15, 349, 165, 4362, 98, 5, 4, 228, 9, 43, 2, 1157, 15, 299, 120, 5, 120, 174, 11, 220, 175, 136, 50, 9, 4373, 228, 8255, 5, 2, 656, 245, 2350, 5, 4, 9837, 131, 152, 491, 18, 2, 32, 7464, 1212, 14, 9, 6, 371, 78, 22, 625, 64, 1382, 9, 8, 168, 145, 23, 4, 1690, 15, 16, 4, 1355, 5, 28, 6, 52, 154, 462, 33, 89, 78, 285, 16, 145, 95])],\n",
              "      dtype=object)"
            ]
          },
          "execution_count": 5,
          "metadata": {},
          "output_type": "execute_result"
        }
      ],
      "source": [
        "X_train[:2]"
      ]
    },
    {
      "cell_type": "code",
      "execution_count": 6,
      "metadata": {
        "id": "LglEeUdOh0C6"
      },
      "outputs": [],
      "source": [
        "# 패딩\n",
        "from tensorflow.keras.preprocessing import sequence\n",
        "max_len = 500\n",
        "x_train = sequence.pad_sequences(X_train, maxlen=max_len, padding = 'post')\n",
        "x_test = sequence.pad_sequences(x_test, maxlen=max_len, padding = 'post')"
      ]
    },
    {
      "cell_type": "code",
      "execution_count": 7,
      "metadata": {
        "id": "W0wBPFp5h0C8"
      },
      "outputs": [],
      "source": [
        "from tensorflow.keras.utils import to_categorical\n",
        "y_train_one_hot = to_categorical(y_train)\n",
        "y_test_one_hot = to_categorical(y_test)"
      ]
    },
    {
      "cell_type": "code",
      "execution_count": 8,
      "metadata": {
        "id": "t2escV-Zh0C9"
      },
      "outputs": [],
      "source": [
        "from tensorflow.keras import layers\n",
        "from tensorflow.keras import models"
      ]
    },
    {
      "cell_type": "code",
      "execution_count": 10,
      "metadata": {
        "colab": {
          "base_uri": "https://localhost:8080/"
        },
        "id": "zez8Id1nh0C9",
        "outputId": "775c3041-7bfe-4f37-9174-086208512510"
      },
      "outputs": [
        {
          "name": "stdout",
          "output_type": "stream",
          "text": [
            "Model: \"sequential_1\"\n",
            "_________________________________________________________________\n",
            " Layer (type)                Output Shape              Param #   \n",
            "=================================================================\n",
            " embedding_1 (Embedding)     (None, None, 32)          320032    \n",
            "                                                                 \n",
            " lstm (LSTM)                 (None, 32)                8320      \n",
            "                                                                 \n",
            " dense (Dense)               (None, 16)                528       \n",
            "                                                                 \n",
            " dense_1 (Dense)             (None, 2)                 34        \n",
            "                                                                 \n",
            "=================================================================\n",
            "Total params: 328914 (1.25 MB)\n",
            "Trainable params: 328914 (1.25 MB)\n",
            "Non-trainable params: 0 (0.00 Byte)\n",
            "_________________________________________________________________\n"
          ]
        }
      ],
      "source": [
        "#simple LSTM\n",
        "tf.random.set_seed(SEED)\n",
        "np.random.seed(SEED)\n",
        "random.seed(SEED)\n",
        "\n",
        "model1 = models.Sequential()\n",
        "model1.add(layers.Embedding(max_features+1, 32))\n",
        "model1.add(layers.LSTM(32))\n",
        "model1.add(layers.Dense(16, activation='tanh'))\n",
        "model1.add(layers.Dense(2, activation='softmax'))\n",
        "model1.summary()\n"
      ]
    },
    {
      "cell_type": "code",
      "execution_count": 12,
      "metadata": {
        "colab": {
          "base_uri": "https://localhost:8080/"
        },
        "id": "vQ0EG_LeFMdo",
        "outputId": "93566787-253c-47a3-d47b-6f4eafc91af6"
      },
      "outputs": [
        {
          "name": "stdout",
          "output_type": "stream",
          "text": [
            "Model: \"sequential_3\"\n",
            "_________________________________________________________________\n",
            " Layer (type)                Output Shape              Param #   \n",
            "=================================================================\n",
            " embedding_3 (Embedding)     (None, None, 32)          320032    \n",
            "                                                                 \n",
            " lstm_2 (LSTM)               (None, None, 32)          8320      \n",
            "                                                                 \n",
            " lstm_3 (LSTM)               (None, 16)                3136      \n",
            "                                                                 \n",
            " dense_2 (Dense)             (None, 16)                272       \n",
            "                                                                 \n",
            " dense_3 (Dense)             (None, 2)                 34        \n",
            "                                                                 \n",
            "=================================================================\n",
            "Total params: 331794 (1.27 MB)\n",
            "Trainable params: 331794 (1.27 MB)\n",
            "Non-trainable params: 0 (0.00 Byte)\n",
            "_________________________________________________________________\n"
          ]
        }
      ],
      "source": [
        "# stacked LSTM\n",
        "tf.random.set_seed(SEED)\n",
        "np.random.seed(SEED)\n",
        "random.seed(SEED)\n",
        "\n",
        "model2 = models.Sequential()\n",
        "model2.add(layers.Embedding(max_features+1, 32))\n",
        "model2.add(layers.LSTM(32, return_sequences=True))\n",
        "model2.add(layers.LSTM(16))\n",
        "model2.add(layers.Dense(16, activation='tanh'))\n",
        "model2.add(layers.Dense(2, activation='softmax'))\n",
        "model2.summary()"
      ]
    },
    {
      "cell_type": "code",
      "execution_count": 13,
      "metadata": {
        "colab": {
          "base_uri": "https://localhost:8080/"
        },
        "id": "8qO2MdYVFMdo",
        "outputId": "0e6ce236-b1e2-4266-8635-7c7011c5c878"
      },
      "outputs": [
        {
          "name": "stdout",
          "output_type": "stream",
          "text": [
            "Model: \"sequential_4\"\n",
            "_________________________________________________________________\n",
            " Layer (type)                Output Shape              Param #   \n",
            "=================================================================\n",
            " embedding_4 (Embedding)     (None, None, 32)          320032    \n",
            "                                                                 \n",
            " bidirectional (Bidirection  (None, None, 64)          16640     \n",
            " al)                                                             \n",
            "                                                                 \n",
            " lstm_5 (LSTM)               (None, 16)                5184      \n",
            "                                                                 \n",
            " dense_4 (Dense)             (None, 16)                272       \n",
            "                                                                 \n",
            " dense_5 (Dense)             (None, 2)                 34        \n",
            "                                                                 \n",
            "=================================================================\n",
            "Total params: 342162 (1.31 MB)\n",
            "Trainable params: 342162 (1.31 MB)\n",
            "Non-trainable params: 0 (0.00 Byte)\n",
            "_________________________________________________________________\n"
          ]
        }
      ],
      "source": [
        "# bidirectional LSTM\n",
        "tf.random.set_seed(SEED)\n",
        "np.random.seed(SEED)\n",
        "random.seed(SEED)\n",
        "\n",
        "model3 = models.Sequential()\n",
        "model3.add(layers.Embedding(max_features+1, 32))\n",
        "model3.add(layers.Bidirectional(layers.LSTM(32, return_sequences = True)))\n",
        "model3.add(layers.LSTM(16))\n",
        "model3.add(layers.Dense(16, activation='tanh'))\n",
        "model3.add(layers.Dense(2, activation='softmax'))\n",
        "model3.summary()"
      ]
    },
    {
      "cell_type": "markdown",
      "metadata": {
        "id": "eM5zJ2UNFMdo"
      },
      "source": [
        "### return_sequences, return_state 설정하여 cell state 활용해보기\n",
        "인자를 조절하면 hidden state, last hidden state, cell state를 함께 출력값으로 활용할 수 있음 <br>\n",
        "credits1: https://wikidocs.net/106473<br>\n",
        "credits2: https://faroit.com/keras-docs/2.0.2/getting-started/functional-api-guide/<br>"
      ]
    },
    {
      "cell_type": "markdown",
      "metadata": {
        "id": "uP8Vx7_9FMdo"
      },
      "source": [
        "#### 예시) 레이어에 대한 이해"
      ]
    },
    {
      "cell_type": "code",
      "execution_count": 14,
      "metadata": {
        "colab": {
          "base_uri": "https://localhost:8080/"
        },
        "id": "DtacDMj8FMdo",
        "outputId": "6d8b9b1e-fd95-421d-86b5-e688987d1b5d"
      },
      "outputs": [
        {
          "name": "stdout",
          "output_type": "stream",
          "text": [
            "(1, 4, 5)\n"
          ]
        }
      ],
      "source": [
        "import numpy as np\n",
        "# 단어벡터의 차원이 5이고, 문장의 길이는 4인 경우를 가정\n",
        "train_X = [[[0.1, 4.2, 1.5, 1.1, 2.8], [1.0, 3.1, 2.5, 0.7, 1.1], [0.3, 2.1, 1.5, 2.1, 0.1], [2.2, 1.4, 0.5, 0.9, 1.1]]]\n",
        "train_X = np.array(train_X, dtype=np.float32)\n",
        "print(train_X.shape)"
      ]
    },
    {
      "cell_type": "code",
      "execution_count": 15,
      "metadata": {
        "colab": {
          "base_uri": "https://localhost:8080/"
        },
        "id": "Nv-RfBF7FMdo",
        "outputId": "4255c989-0dcd-4550-b769-7859fcec469f"
      },
      "outputs": [
        {
          "data": {
            "text/plain": [
              "array([[[0.1, 4.2, 1.5, 1.1, 2.8],\n",
              "        [1. , 3.1, 2.5, 0.7, 1.1],\n",
              "        [0.3, 2.1, 1.5, 2.1, 0.1],\n",
              "        [2.2, 1.4, 0.5, 0.9, 1.1]]], dtype=float32)"
            ]
          },
          "execution_count": 15,
          "metadata": {},
          "output_type": "execute_result"
        }
      ],
      "source": [
        "train_X"
      ]
    },
    {
      "cell_type": "markdown",
      "metadata": {
        "id": "qhlYKUSJFMdp"
      },
      "source": [
        "1) return_sequences = False, return_state = True로 설정"
      ]
    },
    {
      "cell_type": "code",
      "execution_count": 16,
      "metadata": {
        "colab": {
          "base_uri": "https://localhost:8080/"
        },
        "id": "t2kCqsONFMdp",
        "outputId": "efb6111e-0604-4035-9514-99cabe8962fe"
      },
      "outputs": [
        {
          "name": "stdout",
          "output_type": "stream",
          "text": [
            "hidden state : [[-0.14329773 -0.17621917  0.0451491 ]], shape: (1, 3)\n",
            "last hidden state : [[-0.14329773 -0.17621917  0.0451491 ]], shape: (1, 3)\n",
            "last cell state : [[-0.60172296 -0.29975715  0.07196024]], shape: (1, 3)\n"
          ]
        }
      ],
      "source": [
        "lstm = layers.LSTM(3, return_sequences=False, return_state=True)\n",
        "hidden_state, last_state, last_cell_state = lstm(train_X)\n",
        "\n",
        "print('hidden state : {}, shape: {}'.format(hidden_state, hidden_state.shape))\n",
        "print('last hidden state : {}, shape: {}'.format(last_state, last_state.shape))\n",
        "print('last cell state : {}, shape: {}'.format(last_cell_state, last_cell_state.shape))"
      ]
    },
    {
      "cell_type": "markdown",
      "metadata": {
        "id": "oWAxr3imFMdp"
      },
      "source": [
        "2. return_sequences = True, return_state = True로 설정"
      ]
    },
    {
      "cell_type": "code",
      "execution_count": 17,
      "metadata": {
        "colab": {
          "base_uri": "https://localhost:8080/"
        },
        "id": "Kzc9xC4JFMdp",
        "outputId": "61af36e5-6a6c-4a20-b6c7-cff3fdc85aae"
      },
      "outputs": [
        {
          "name": "stdout",
          "output_type": "stream",
          "text": [
            "hidden state : [[[ 0.02729815 -0.12010667 -0.05141078]\n",
            "  [-0.08508788 -0.2232535  -0.13236944]\n",
            "  [-0.12948413 -0.30452108 -0.08507689]\n",
            "  [-0.13208775 -0.18933256 -0.24054793]]], shape: (1, 4, 3)\n",
            "last hidden state : [[-0.13208775 -0.18933256 -0.24054793]], shape: (1, 3)\n",
            "last cell state : [[-0.16763023 -0.23456246 -0.544545  ]], shape: (1, 3)\n"
          ]
        }
      ],
      "source": [
        "lstm2 = layers.LSTM(3, return_sequences=True, return_state=True)\n",
        "hidden_state, last_state, last_cell_state = lstm2(train_X)\n",
        "\n",
        "print('hidden state : {}, shape: {}'.format(hidden_state, hidden_state.shape))\n",
        "print('last hidden state : {}, shape: {}'.format(last_state, last_state.shape))\n",
        "print('last cell state : {}, shape: {}'.format(last_cell_state, last_cell_state.shape))"
      ]
    },
    {
      "cell_type": "code",
      "execution_count": null,
      "metadata": {
        "colab": {
          "base_uri": "https://localhost:8080/"
        },
        "id": "1nA6wRvdFMdp",
        "outputId": "3775c23a-8c77-4921-e516-61465747e86c"
      },
      "outputs": [
        {
          "name": "stdout",
          "output_type": "stream",
          "text": [
            "hidden state : [[[ 0.16021264 -0.283949   -0.06943045]\n",
            "  [ 0.21254581 -0.3224323  -0.1341981 ]\n",
            "  [ 0.42984015 -0.2281625  -0.35318282]\n",
            "  [ 0.09617417 -0.13358344 -0.39337915]]], shape: (1, 4, 3)\n"
          ]
        }
      ],
      "source": [
        "lstm3 = layers.LSTM(3, return_sequences=True, return_state=False)\n",
        "hidden_state = lstm3(train_X)\n",
        "\n",
        "print('hidden state : {}, shape: {}'.format(hidden_state, hidden_state.shape))"
      ]
    },
    {
      "cell_type": "markdown",
      "metadata": {
        "id": "12n-eeQiFMdp"
      },
      "source": [
        "#### cell state를 활용한 모델 구성"
      ]
    },
    {
      "cell_type": "code",
      "execution_count": 20,
      "metadata": {
        "colab": {
          "base_uri": "https://localhost:8080/"
        },
        "id": "Vf-mMpevFMdp",
        "outputId": "ed87dc24-a2dd-4c0f-ef3c-ccf58ff24f2d"
      },
      "outputs": [
        {
          "name": "stdout",
          "output_type": "stream",
          "text": [
            "Model: \"model\"\n",
            "__________________________________________________________________________________________________\n",
            " Layer (type)                Output Shape                 Param #   Connected to                  \n",
            "==================================================================================================\n",
            " input_2 (InputLayer)        [(None, 500)]                0         []                            \n",
            "                                                                                                  \n",
            " embedding_6 (Embedding)     (None, 500, 32)              320032    ['input_2[0][0]']             \n",
            "                                                                                                  \n",
            " lstm_9 (LSTM)               [(None, 32),                 8320      ['embedding_6[0][0]']         \n",
            "                              (None, 32),                                                         \n",
            "                              (None, 32)]                                                         \n",
            "                                                                                                  \n",
            " tf.math.add (TFOpLambda)    (None, 32)                   0         ['lstm_9[0][1]',              \n",
            "                                                                     'lstm_9[0][2]']              \n",
            "                                                                                                  \n",
            " tf.math.truediv (TFOpLambd  (None, 32)                   0         ['tf.math.add[0][0]']         \n",
            " a)                                                                                               \n",
            "                                                                                                  \n",
            " dense_6 (Dense)             (None, 16)                   528       ['tf.math.truediv[0][0]']     \n",
            "                                                                                                  \n",
            " dense_7 (Dense)             (None, 2)                    34        ['dense_6[0][0]']             \n",
            "                                                                                                  \n",
            "==================================================================================================\n",
            "Total params: 328914 (1.25 MB)\n",
            "Trainable params: 328914 (1.25 MB)\n",
            "Non-trainable params: 0 (0.00 Byte)\n",
            "__________________________________________________________________________________________________\n"
          ]
        }
      ],
      "source": [
        "# cell state를 은닉층에 포함한 모델 구성\n",
        "tf.random.set_seed(SEED)\n",
        "np.random.seed(SEED)\n",
        "random.seed(SEED)\n",
        "\n",
        "main_input = layers.Input(shape = (max_len,), dtype = 'int32') #, dtype = 'int32'\n",
        "x = layers.Embedding(output_dim=32, input_dim=max_features+1, input_length=max_len)(main_input)\n",
        "hidden_state, last_state, last_cell_state = layers.LSTM(32, return_state=True)(x) #hidden_state, last_state, last_cell_state\n",
        "lstm_out = tf.math.add(last_state, last_cell_state)/2 # 평균\n",
        "x = layers.Dense(16, activation = 'relu')(lstm_out)\n",
        "main_output = layers.Dense(2, activation = 'softmax')(x)\n",
        "\n",
        "model4 = models.Model(inputs = main_input, outputs = main_output)\n",
        "model4.summary()"
      ]
    },
    {
      "cell_type": "markdown",
      "metadata": {
        "id": "5AkBbBlyFMdq"
      },
      "source": [
        "model(simple LSTM)에 대한 학습결과"
      ]
    },
    {
      "cell_type": "code",
      "execution_count": 21,
      "metadata": {
        "id": "y0g4jq2vFMdq"
      },
      "outputs": [],
      "source": [
        "from tensorflow.keras.optimizers import RMSprop\n",
        "model1.compile(optimizer=RMSprop(learning_rate=0.001), loss='binary_crossentropy', metrics=['accuracy'])"
      ]
    },
    {
      "cell_type": "code",
      "execution_count": 22,
      "metadata": {
        "colab": {
          "base_uri": "https://localhost:8080/"
        },
        "id": "Hgt-qZXrFMdq",
        "outputId": "5ac660f1-7753-4ae4-f37a-37f98bd0d7ef"
      },
      "outputs": [
        {
          "name": "stdout",
          "output_type": "stream",
          "text": [
            "Epoch 1/10\n"
          ]
        },
        {
          "name": "stdout",
          "output_type": "stream",
          "text": [
            "157/157 [==============================] - 40s 245ms/step - loss: 0.6932 - accuracy: 0.5037 - val_loss: 0.6931 - val_accuracy: 0.5040\n",
            "Epoch 2/10\n",
            "157/157 [==============================] - 38s 244ms/step - loss: 0.6929 - accuracy: 0.5039 - val_loss: 0.6932 - val_accuracy: 0.5034\n",
            "Epoch 3/10\n",
            "157/157 [==============================] - 39s 249ms/step - loss: 0.6925 - accuracy: 0.5049 - val_loss: 0.6937 - val_accuracy: 0.5036\n",
            "Epoch 4/10\n",
            "157/157 [==============================] - 41s 259ms/step - loss: 0.6922 - accuracy: 0.5083 - val_loss: 0.6934 - val_accuracy: 0.4938\n",
            "Epoch 5/10\n",
            "157/157 [==============================] - 36s 230ms/step - loss: 0.6917 - accuracy: 0.5031 - val_loss: 0.6930 - val_accuracy: 0.5046\n",
            "Epoch 6/10\n",
            "157/157 [==============================] - 41s 259ms/step - loss: 0.6906 - accuracy: 0.5088 - val_loss: 0.6919 - val_accuracy: 0.5080\n",
            "Epoch 7/10\n",
            "157/157 [==============================] - 41s 262ms/step - loss: 0.6883 - accuracy: 0.5092 - val_loss: 0.7004 - val_accuracy: 0.5018\n",
            "Epoch 8/10\n",
            "157/157 [==============================] - 41s 261ms/step - loss: 0.6828 - accuracy: 0.5156 - val_loss: 0.6853 - val_accuracy: 0.5118\n",
            "Epoch 9/10\n",
            "157/157 [==============================] - 41s 259ms/step - loss: 0.6946 - accuracy: 0.5385 - val_loss: 0.6854 - val_accuracy: 0.5260\n",
            "Epoch 10/10\n",
            "157/157 [==============================] - 38s 244ms/step - loss: 0.6291 - accuracy: 0.6612 - val_loss: 0.6367 - val_accuracy: 0.6900\n"
          ]
        }
      ],
      "source": [
        "history_model1 = model1.fit(x_train, y_train_one_hot, epochs=10, batch_size=128, validation_split=0.2)"
      ]
    },
    {
      "cell_type": "markdown",
      "metadata": {
        "id": "SprYz15wFMdq"
      },
      "source": [
        "model4(custom model)에 대한 학습결과"
      ]
    },
    {
      "cell_type": "code",
      "execution_count": null,
      "metadata": {
        "id": "ePcAmPq-h0C9"
      },
      "outputs": [],
      "source": [
        "from tensorflow.keras.optimizers import RMSprop\n",
        "model4.compile(optimizer=RMSprop(learning_rate=0.001), loss='binary_crossentropy', metrics=['acc'])"
      ]
    },
    {
      "cell_type": "code",
      "execution_count": null,
      "metadata": {
        "colab": {
          "base_uri": "https://localhost:8080/"
        },
        "id": "iyDDUkIch0C-",
        "outputId": "6fa90832-0152-487a-8f9b-dcc426788ea1"
      },
      "outputs": [
        {
          "name": "stdout",
          "output_type": "stream",
          "text": [
            "Epoch 1/10\n",
            "157/157 [==============================] - 69s 421ms/step - loss: 0.6931 - acc: 0.5005 - val_loss: 0.6932 - val_acc: 0.4938\n",
            "Epoch 2/10\n",
            "157/157 [==============================] - 65s 415ms/step - loss: 0.6926 - acc: 0.5055 - val_loss: 0.6934 - val_acc: 0.5038\n",
            "Epoch 3/10\n",
            "157/157 [==============================] - 67s 423ms/step - loss: 0.6919 - acc: 0.5054 - val_loss: 0.6943 - val_acc: 0.5030\n",
            "Epoch 4/10\n",
            "157/157 [==============================] - 67s 427ms/step - loss: 0.6907 - acc: 0.5147 - val_loss: 0.6901 - val_acc: 0.5178\n",
            "Epoch 5/10\n",
            "157/157 [==============================] - 67s 428ms/step - loss: 0.6898 - acc: 0.5408 - val_loss: 0.6834 - val_acc: 0.5356\n",
            "Epoch 6/10\n",
            "157/157 [==============================] - 66s 423ms/step - loss: 0.6558 - acc: 0.6162 - val_loss: 0.6437 - val_acc: 0.6348\n",
            "Epoch 7/10\n",
            "157/157 [==============================] - 67s 429ms/step - loss: 0.6232 - acc: 0.6722 - val_loss: 0.5596 - val_acc: 0.7546\n",
            "Epoch 8/10\n",
            "157/157 [==============================] - 66s 423ms/step - loss: 0.5860 - acc: 0.7228 - val_loss: 0.5283 - val_acc: 0.7762\n",
            "Epoch 9/10\n",
            "157/157 [==============================] - 68s 434ms/step - loss: 0.5869 - acc: 0.7069 - val_loss: 0.5538 - val_acc: 0.7280\n",
            "Epoch 10/10\n",
            "157/157 [==============================] - 71s 451ms/step - loss: 0.5402 - acc: 0.7551 - val_loss: 0.5150 - val_acc: 0.7882\n"
          ]
        }
      ],
      "source": [
        "history_model4 = model4.fit(x_train, y_train_one_hot, epochs=10, batch_size=128, validation_split=0.2)"
      ]
    },
    {
      "cell_type": "code",
      "execution_count": null,
      "metadata": {
        "colab": {
          "base_uri": "https://localhost:8080/",
          "height": 449
        },
        "id": "0Mx8pa2fFMdq",
        "outputId": "bc262c95-3583-4523-a966-2827e6c385b1"
      },
      "outputs": [
        {
          "data": {
            "image/png": "[encoded data removed]",
            "text/plain": [
              "<Figure size 640x480 with 1 Axes>"
            ]
          },
          "metadata": {},
          "output_type": "display_data"
        }
      ],
      "source": [
        "import matplotlib.pyplot as plt\n",
        "plt.plot(history_model1.history['loss'])\n",
        "plt.plot(history_model1.history['val_loss'])\n",
        "plt.xlabel('epoch')\n",
        "plt.ylabel('loss')\n",
        "plt.legend(['train','val'])\n",
        "plt.show()"
      ]
    },
    {
      "cell_type": "code",
      "execution_count": null,
      "metadata": {
        "colab": {
          "base_uri": "https://localhost:8080/",
          "height": 449
        },
        "id": "YujY_ddRh0C-",
        "outputId": "69d88ec7-67e5-4ceb-ccd9-1737087e2e22"
      },
      "outputs": [
        {
          "data": {
            "image/png": "[encoded data removed]",
            "text/plain": [
              "<Figure size 640x480 with 1 Axes>"
            ]
          },
          "metadata": {},
          "output_type": "display_data"
        }
      ],
      "source": [
        "import matplotlib.pyplot as plt\n",
        "plt.plot(history_model4.history['loss'])\n",
        "plt.plot(history_model4.history['val_loss'])\n",
        "plt.xlabel('epoch')\n",
        "plt.ylabel('loss')\n",
        "plt.legend(['train','val'])\n",
        "plt.show()"
      ]
    },
    {
      "cell_type": "code",
      "execution_count": null,
      "metadata": {
        "colab": {
          "base_uri": "https://localhost:8080/"
        },
        "id": "rlkQWM5Hh0C-",
        "outputId": "0757c685-523d-44dc-d175-a096fd00224b"
      },
      "outputs": [
        {
          "name": "stdout",
          "output_type": "stream",
          "text": [
            "782/782 [==============================] - 48s 62ms/step - loss: 0.6881 - acc: 0.5153\n"
          ]
        }
      ],
      "source": [
        "test_loss_model1, test_acc_model1 = model1.evaluate(x_test,y_test_one_hot)"
      ]
    },
    {
      "cell_type": "code",
      "execution_count": null,
      "metadata": {
        "colab": {
          "base_uri": "https://localhost:8080/"
        },
        "id": "xEGBDbL5FMdq",
        "outputId": "7e0947c6-f1f9-46f5-8817-5c91e77fc2c1"
      },
      "outputs": [
        {
          "name": "stdout",
          "output_type": "stream",
          "text": [
            "782/782 [==============================] - 48s 62ms/step - loss: 0.5258 - acc: 0.7812\n"
          ]
        }
      ],
      "source": [
        "test_loss_model4, test_acc_model4 = model4.evaluate(x_test,y_test_one_hot)"
      ]
    },
    {
      "cell_type": "code",
      "execution_count": null,
      "metadata": {
        "colab": {
          "base_uri": "https://localhost:8080/"
        },
        "id": "bQ4peBjYh0C-",
        "outputId": "bb93987c-2cfa-47ed-9d10-4c8ea08dc29f"
      },
      "outputs": [
        {
          "name": "stdout",
          "output_type": "stream",
          "text": [
            "test_acc_model1: 0.51528000831604\n",
            "test_acc_model4: 0.7812399864196777\n"
          ]
        }
      ],
      "source": [
        "print('test_acc_model1:', test_acc_model1)\n",
        "print('test_acc_model4:', test_acc_model4)"
      ]
    },
    {
      "cell_type": "markdown",
      "metadata": {
        "id": "pUzOZ4h6FMdq"
      },
      "source": [
        "## 2) GRU\n",
        "데이터셋은 그대로 사용"
      ]
    },
    {
      "cell_type": "code",
      "execution_count": null,
      "metadata": {
        "colab": {
          "base_uri": "https://localhost:8080/"
        },
        "id": "UvK-gA5hh0C_",
        "outputId": "96e44f46-04ea-458c-a56e-755c8f3cb8b2"
      },
      "outputs": [
        {
          "name": "stdout",
          "output_type": "stream",
          "text": [
            "Model: \"sequential_12\"\n",
            "_________________________________________________________________\n",
            " Layer (type)                Output Shape              Param #   \n",
            "=================================================================\n",
            " embedding_15 (Embedding)    (None, None, 32)          320032    \n",
            "                                                                 \n",
            " gru_5 (GRU)                 (None, 32)                6336      \n",
            "                                                                 \n",
            " dense_21 (Dense)            (None, 2)                 66        \n",
            "                                                                 \n",
            "=================================================================\n",
            "Total params: 326,434\n",
            "Trainable params: 326,434\n",
            "Non-trainable params: 0\n",
            "_________________________________________________________________\n"
          ]
        }
      ],
      "source": [
        "#simple GRU\n",
        "tf.random.set_seed(SEED)\n",
        "model5 = models.Sequential()\n",
        "model5.add(layers.Embedding(max_features+1, 32)) #lstm모델보다 파라미터 수가 적은 것을 확인가능\n",
        "model5.add(layers.GRU(32))\n",
        "model5.add(layers.Dense(2, activation = 'softmax'))\n",
        "model5.summary()"
      ]
    },
    {
      "cell_type": "code",
      "execution_count": null,
      "metadata": {
        "colab": {
          "base_uri": "https://localhost:8080/"
        },
        "id": "Sj4JMv5jFMdv",
        "outputId": "ff7b06d8-5a07-4b46-af9d-bdb589ba0951"
      },
      "outputs": [
        {
          "name": "stdout",
          "output_type": "stream",
          "text": [
            "Model: \"sequential_13\"\n",
            "_________________________________________________________________\n",
            " Layer (type)                Output Shape              Param #   \n",
            "=================================================================\n",
            " embedding_16 (Embedding)    (None, None, 32)          320032    \n",
            "                                                                 \n",
            " gru_6 (GRU)                 (None, None, 32)          6336      \n",
            "                                                                 \n",
            " gru_7 (GRU)                 (None, 16)                2400      \n",
            "                                                                 \n",
            " dense_22 (Dense)            (None, 2)                 34        \n",
            "                                                                 \n",
            "=================================================================\n",
            "Total params: 328,802\n",
            "Trainable params: 328,802\n",
            "Non-trainable params: 0\n",
            "_________________________________________________________________\n"
          ]
        }
      ],
      "source": [
        "# stacked GRU\n",
        "tf.random.set_seed(SEED)\n",
        "model6 = models.Sequential()\n",
        "model6.add(layers.Embedding(max_features+1, 32))\n",
        "model6.add(layers.GRU(32, return_sequences = True))\n",
        "model6.add(layers.GRU(16))\n",
        "model6.add(layers.Dense(2, activation = 'softmax'))\n",
        "model6.summary()"
      ]
    },
    {
      "cell_type": "code",
      "execution_count": null,
      "metadata": {
        "colab": {
          "base_uri": "https://localhost:8080/"
        },
        "id": "kZKTwZQbFMdv",
        "outputId": "47760299-658e-4713-f7b4-950f482efb92"
      },
      "outputs": [
        {
          "name": "stdout",
          "output_type": "stream",
          "text": [
            "Model: \"sequential_14\"\n",
            "_________________________________________________________________\n",
            " Layer (type)                Output Shape              Param #   \n",
            "=================================================================\n",
            " embedding_17 (Embedding)    (None, None, 32)          320032    \n",
            "                                                                 \n",
            " bidirectional_4 (Bidirectio  (None, None, 64)         12672     \n",
            " nal)                                                            \n",
            "                                                                 \n",
            " gru_9 (GRU)                 (None, 16)                3936      \n",
            "                                                                 \n",
            " dense_23 (Dense)            (None, 2)                 34        \n",
            "                                                                 \n",
            "=================================================================\n",
            "Total params: 336,674\n",
            "Trainable params: 336,674\n",
            "Non-trainable params: 0\n",
            "_________________________________________________________________\n"
          ]
        }
      ],
      "source": [
        "# bidirectional LSTM\n",
        "tf.random.set_seed(SEED)\n",
        "model7 = models.Sequential()\n",
        "model7.add(layers.Embedding(max_features+1, 32))\n",
        "model7.add(layers.Bidirectional(layers.GRU(32, return_sequences = True)))\n",
        "model7.add(layers.GRU(16))\n",
        "model7.add(layers.Dense(2, activation = 'softmax'))\n",
        "model7.summary()"
      ]
    },
    {
      "cell_type": "markdown",
      "metadata": {
        "id": "L1fC1YEJFMdw"
      },
      "source": [
        "** complie및 학습과정은 lstm과 동일 **"
      ]
    },
    {
      "cell_type": "code",
      "execution_count": null,
      "metadata": {
        "id": "ZXp8dbDiFMdw"
      },
      "outputs": [],
      "source": [
        "# model1과의 비교를 위해 simpleGRU 모델인 model5에 대해 학습\n",
        "from tensorflow.keras.optimizers import RMSprop\n",
        "model5.compile(optimizer=RMSprop(learning_rate=0.001), loss='binary_crossentropy', metrics=['acc'])"
      ]
    },
    {
      "cell_type": "code",
      "execution_count": null,
      "metadata": {
        "colab": {
          "base_uri": "https://localhost:8080/"
        },
        "id": "a1tCoj5KFMdw",
        "outputId": "1e9486a9-ce73-40f7-9cb9-cd0f7023941f"
      },
      "outputs": [
        {
          "name": "stdout",
          "output_type": "stream",
          "text": [
            "Epoch 1/10\n",
            "157/157 [==============================] - 69s 418ms/step - loss: 0.6931 - acc: 0.5021 - val_loss: 0.6931 - val_acc: 0.5042\n",
            "Epoch 2/10\n",
            "157/157 [==============================] - 66s 419ms/step - loss: 0.6928 - acc: 0.5035 - val_loss: 0.6931 - val_acc: 0.5040\n",
            "Epoch 3/10\n",
            "157/157 [==============================] - 69s 440ms/step - loss: 0.6924 - acc: 0.5048 - val_loss: 0.6932 - val_acc: 0.5044\n",
            "Epoch 4/10\n",
            "157/157 [==============================] - 70s 449ms/step - loss: 0.6919 - acc: 0.5074 - val_loss: 0.6932 - val_acc: 0.4944\n",
            "Epoch 5/10\n",
            "157/157 [==============================] - 66s 420ms/step - loss: 0.6913 - acc: 0.5038 - val_loss: 0.6928 - val_acc: 0.5054\n",
            "Epoch 6/10\n",
            "157/157 [==============================] - 66s 417ms/step - loss: 0.6901 - acc: 0.5105 - val_loss: 0.6922 - val_acc: 0.5082\n",
            "Epoch 7/10\n",
            "157/157 [==============================] - 66s 420ms/step - loss: 0.6886 - acc: 0.5055 - val_loss: 0.6951 - val_acc: 0.4994\n",
            "Epoch 8/10\n",
            "157/157 [==============================] - 64s 409ms/step - loss: 0.6860 - acc: 0.5119 - val_loss: 0.6932 - val_acc: 0.5008\n",
            "Epoch 9/10\n",
            "157/157 [==============================] - 65s 417ms/step - loss: 0.6822 - acc: 0.5181 - val_loss: 0.6913 - val_acc: 0.5036\n",
            "Epoch 10/10\n",
            "157/157 [==============================] - 65s 414ms/step - loss: 0.6778 - acc: 0.5249 - val_loss: 0.6964 - val_acc: 0.5060\n"
          ]
        }
      ],
      "source": [
        "history_model5 = model5.fit(x_train, y_train_one_hot, epochs=10, batch_size=128, validation_split=0.2)"
      ]
    },
    {
      "cell_type": "code",
      "execution_count": null,
      "metadata": {
        "colab": {
          "base_uri": "https://localhost:8080/"
        },
        "id": "CAOXSr80FMdw",
        "outputId": "28a53542-5904-41cf-b773-d3f8c808b45e"
      },
      "outputs": [
        {
          "data": {
            "image/png": "[encoded data removed]",
            "text/plain": [
              "<Figure size 640x480 with 1 Axes>"
            ]
          },
          "metadata": {},
          "output_type": "display_data"
        }
      ],
      "source": [
        "import matplotlib.pyplot as plt\n",
        "plt.plot(history_model5.history['loss'])\n",
        "plt.plot(history_model5.history['val_loss'])\n",
        "plt.xlabel('epoch')\n",
        "plt.ylabel('loss')\n",
        "plt.legend(['train','val'])\n",
        "plt.show()"
      ]
    },
    {
      "cell_type": "code",
      "execution_count": null,
      "metadata": {
        "colab": {
          "base_uri": "https://localhost:8080/"
        },
        "id": "6nr3ByTRFMdw",
        "outputId": "037073fc-2b53-4b1a-8614-f30a4c316097"
      },
      "outputs": [
        {
          "name": "stdout",
          "output_type": "stream",
          "text": [
            "782/782 [==============================] - 38s 49ms/step - loss: 0.6963 - acc: 0.5068\n"
          ]
        }
      ],
      "source": [
        "test_loss_model5, test_acc_model5 = model5.evaluate(x_test,y_test_one_hot)"
      ]
    },
    {
      "cell_type": "code",
      "execution_count": null,
      "metadata": {
        "colab": {
          "base_uri": "https://localhost:8080/"
        },
        "id": "rebrBm0RFMdw",
        "outputId": "9916902a-77ae-4795-fb05-b9e37c40168b"
      },
      "outputs": [
        {
          "name": "stdout",
          "output_type": "stream",
          "text": [
            "test_acc_model1: 0.51528000831604\n",
            "test_acc_model4: 0.7812399864196777\n",
            "test_acc_model5: 0.5068399906158447\n"
          ]
        }
      ],
      "source": [
        "# 비교_진짜최종.ipynb\n",
        "print('test_acc_model1:', test_acc_model1)\n",
        "print('test_acc_model4:', test_acc_model4)\n",
        "print('test_acc_model5:', test_acc_model5)"
      ]
    },
    {
      "cell_type": "code",
      "execution_count": null,
      "metadata": {
        "id": "fSO4bBGPFMdw"
      },
      "outputs": [],
      "source": []
    }
  ],
  "metadata": {
    "colab": {
      "provenance": []
    },
    "kernelspec": {
      "display_name": "Python 3 (ipykernel)",
      "language": "python",
      "name": "python3"
    },
    "language_info": {
      "codemirror_mode": {
        "name": "ipython",
        "version": 3
      },
      "file_extension": ".py",
      "mimetype": "text/x-python",
      "name": "python",
      "nbconvert_exporter": "python",
      "pygments_lexer": "ipython3",
      "version": "3.8.17"
    }
  },
  "nbformat": 4,
  "nbformat_minor": 0
}
