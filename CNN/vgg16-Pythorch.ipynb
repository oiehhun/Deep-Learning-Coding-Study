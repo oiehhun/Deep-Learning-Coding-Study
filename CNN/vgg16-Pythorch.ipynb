{
  "cells": [
    {
      "cell_type": "code",
      "execution_count": 2,
      "metadata": {
        "id": "WDRiFVcUOfeC"
      },
      "outputs": [],
      "source": [
        "# 파이토치 호출\n",
        "import torch\n",
        "import torch.nn as nn\n",
        "\n",
        "# 토치비전 transform 및 데이터셋 가져오기\n",
        "from torchvision.transforms import transforms\n",
        "from torchvision.datasets import STL10\n",
        "\n",
        "# 데이터 로더 가져오기\n",
        "from torch.utils.data.dataloader import DataLoader\n",
        "\n",
        "# 최적화 알고리즘 가져오기\n",
        "from torch.optim import optimizer\n",
        "\n",
        "# numpy\n",
        "import numpy as np\n",
        "\n",
        "# matplotlib\n",
        "import matplotlib.pyplot as plt"
      ]
    },
    {
      "cell_type": "code",
      "execution_count": 3,
      "metadata": {
        "id": "zJIi9BtgOfeH"
      },
      "outputs": [],
      "source": [
        "# 시드 고정\n",
        "torch.manual_seed(1)\n",
        "torch.cuda.manual_seed(1)\n",
        "torch.cuda.manual_seed_all(1)\n",
        "np.random.seed(1)"
      ]
    },
    {
      "cell_type": "code",
      "execution_count": 4,
      "metadata": {
        "id": "8ICy1kL7OfeI"
      },
      "outputs": [],
      "source": [
        "# 데이터 transform 적용\n",
        "# 해상도는 논문에서 사용한 224*224 해상도 적용\n",
        "# transforms.Compose를 사용하여 여러 transform을 적용할 수 있음\n",
        "data_transforms = transforms.Compose([\n",
        "    transforms.Resize((224,224)), # 224*224로 크기 조정\n",
        "    transforms.RandomHorizontalFlip(0.5), # 50% 확률로 좌우 반전\n",
        "    transforms.ToTensor(), # 텐서로 변환\n",
        "    transforms.Normalize((0.44671392, 0.43981278, 0.40664902), (0.061943434, 0.061971385, 0.06911716)) # 표준화를 원할 경우,\n",
        "])"
      ]
    },
    {
      "cell_type": "code",
      "execution_count": 5,
      "metadata": {
        "id": "GkFZmy35OfeJ",
        "outputId": "aee5778f-96ff-46c1-b776-ef26b03813de"
      },
      "outputs": [],
      "source": [
        "# 데이터 불러오기(fashion MNIST 사용)\n",
        "path = '/home/xogns5037/딥러닝코딩스터디/data/STL10'\n",
        "\n",
        "train_data = STL10(\n",
        "    root = path,\n",
        "    split= 'train',\n",
        "    download=False,\n",
        "    transform=data_transforms\n",
        ")\n",
        "\n",
        "test_data = STL10(\n",
        "    root = path,\n",
        "    split='test',\n",
        "    download=False,\n",
        "    transform=data_transforms\n",
        ")"
      ]
    },
    {
      "cell_type": "code",
      "execution_count": 6,
      "metadata": {
        "id": "klPe1NYoOfeK",
        "outputId": "7d3d45c1-a157-45d3-e24f-6174d67ad59b"
      },
      "outputs": [
        {
          "name": "stdout",
          "output_type": "stream",
          "text": [
            "img shape : (5000, 3, 224, 224)\n"
          ]
        }
      ],
      "source": [
        "# 이미지 정규화\n",
        "imgs = np.array([img.numpy() for img, _ in train_data])\n",
        "print(f'img shape : {imgs.shape}')"
      ]
    },
    {
      "cell_type": "code",
      "execution_count": 7,
      "metadata": {
        "id": "RddpWSD2OfeK"
      },
      "outputs": [],
      "source": [
        "min_r = np.min(imgs, axis=(2,3))[:, 0].min()\n",
        "min_g = np.min(imgs, axis=(2,3))[:, 1].min()\n",
        "min_b = np.min(imgs, axis=(2,3))[:, 2].min()\n",
        "\n",
        "max_r = np.max(imgs, axis=(2,3))[:, 0].max()\n",
        "max_g = np.max(imgs, axis=(2,3))[:, 1].max()\n",
        "max_b = np.max(imgs, axis=(2,3))[:, 2].max()\n",
        "\n",
        "mean_r = np.mean(imgs, axis=(2,3))[:, 0].mean()\n",
        "mean_g = np.mean(imgs, axis=(2,3))[:, 1].mean()\n",
        "mean_b = np.mean(imgs, axis=(2,3))[:, 2].mean()\n",
        "\n",
        "std_r = np.std(imgs, axis=(2,3))[:, 0].std()\n",
        "std_g = np.std(imgs, axis=(2,3))[:, 1].std()\n",
        "std_b = np.std(imgs, axis=(2,3))[:, 2].std()"
      ]
    },
    {
      "cell_type": "code",
      "execution_count": 8,
      "metadata": {
        "id": "VSV-hszMOfeL",
        "outputId": "5a16738f-b417-4e89-d845-f62992d280bc"
      },
      "outputs": [
        {
          "name": "stdout",
          "output_type": "stream",
          "text": [
            "min : (-7.2116427, -7.09703, -5.8834743)\n",
            "max : (8.932118, 9.03945, 8.584714)\n",
            "mean : (-2.6016235e-07, 1.953125e-07, -1.9073487e-07)\n",
            "std : (1.0, 1.0, 1.0)\n"
          ]
        }
      ],
      "source": [
        "# 표준화 이전\n",
        "# STL10 데이터의 경우 정규화가 이미 잘 되어있는 데이터\n",
        "# 표준화가 나을지 정규화가 나을지는 직접 확인하며 작업해야함\n",
        "print(f'min : {min_r, min_g, min_b}')\n",
        "print(f'max : {max_r, max_g, max_b}')\n",
        "print(f'mean : {mean_r, mean_g, mean_b}')\n",
        "print(f'std : {std_r, std_g, std_b}')"
      ]
    },
    {
      "cell_type": "code",
      "execution_count": 9,
      "metadata": {
        "id": "0aNiu5jwOfeM",
        "outputId": "e779d814-040b-4a4d-fbe3-a7b87f400c0f"
      },
      "outputs": [
        {
          "name": "stdout",
          "output_type": "stream",
          "text": [
            "min : (-7.2116427, -7.09703, -5.8834743)\n",
            "max : (8.932118, 9.03945, 8.584714)\n",
            "mean : (-2.6016235e-07, 1.953125e-07, -1.9073487e-07)\n",
            "std : (1.0, 1.0, 1.0)\n"
          ]
        }
      ],
      "source": [
        "# 표준화 이후\n",
        "# STL10 데이터의 경우 정규화가 이미 잘 되어있는 데이터\n",
        "# 표준화가 나을지 정규화가 나을지는 직접 확인하며 작업해야함\n",
        "print(f'min : {min_r, min_g, min_b}')\n",
        "print(f'max : {max_r, max_g, max_b}')\n",
        "print(f'mean : {mean_r, mean_g, mean_b}')\n",
        "print(f'std : {std_r, std_g, std_b}')"
      ]
    },
    {
      "cell_type": "code",
      "execution_count": 10,
      "metadata": {
        "id": "6XooGOywOfeM"
      },
      "outputs": [],
      "source": [
        "# batch size 및 num_workers 구성\n",
        "batch_size = 128\n",
        "num_workers = 4  # 4개의 프로세스를 사용하여 데이터를 불러옴\n",
        "\n",
        "train_dataloader = DataLoader(\n",
        "    train_data,\n",
        "    batch_size=batch_size,\n",
        "    shuffle=True,\n",
        "    num_workers=num_workers,\n",
        "    drop_last=True\n",
        "    )\n",
        "\n",
        "test_dataloader = DataLoader(\n",
        "    test_data,\n",
        "    batch_size=batch_size,\n",
        "    shuffle=False,\n",
        "    num_workers=num_workers,\n",
        "    drop_last=True)"
      ]
    },
    {
      "cell_type": "code",
      "execution_count": 11,
      "metadata": {
        "id": "sOEZJsjEOfeO",
        "outputId": "2171f024-c4fd-440b-ec43-5cdc5ac98b0c"
      },
      "outputs": [
        {
          "data": {
            "text/plain": [
              "Dataset STL10\n",
              "    Number of datapoints: 5000\n",
              "    Root location: /home/xogns5037/딥러닝코딩스터디/data/STL10\n",
              "    Split: train\n",
              "    StandardTransform\n",
              "Transform: Compose(\n",
              "               Resize(size=(224, 224), interpolation=bilinear, max_size=None, antialias=warn)\n",
              "               RandomHorizontalFlip(p=0.5)\n",
              "               ToTensor()\n",
              "               Normalize(mean=(0.44671392, 0.43981278, 0.40664902), std=(0.061943434, 0.061971385, 0.06911716))\n",
              "           )"
            ]
          },
          "execution_count": 11,
          "metadata": {},
          "output_type": "execute_result"
        }
      ],
      "source": [
        "(train_dataloader.dataset)"
      ]
    },
    {
      "cell_type": "code",
      "execution_count": 12,
      "metadata": {
        "id": "-ecCdV0-OfeP",
        "outputId": "4c42179b-a2d6-40d3-9ed6-02a6da2d3ee1"
      },
      "outputs": [
        {
          "name": "stdout",
          "output_type": "stream",
          "text": [
            "train data 개수 : 5000\n",
            "test data 개수 : 8000\n",
            "x shape (N, C, H, W): torch.Size([128, 3, 224, 224])\n",
            "y shape : (torch.Size([128]), torch.int64)\n"
          ]
        }
      ],
      "source": [
        "# 데이터 확인\n",
        "print(f'train data 개수 : {len(train_dataloader.dataset)}')\n",
        "print(f'test data 개수 : {len(test_dataloader.dataset)}')\n",
        "\n",
        "for x, y in test_dataloader:\n",
        "    print(f'x shape (N, C, H, W): {x.shape}')\n",
        "    print(f'y shape : {y.shape, y.dtype}')\n",
        "    break"
      ]
    },
    {
      "cell_type": "code",
      "execution_count": 13,
      "metadata": {
        "id": "2qqwZaR2OfeP",
        "outputId": "54278a46-f8ca-46e8-c36c-e8c8ea9f0882"
      },
      "outputs": [
        {
          "data": {
            "text/plain": [
              "['airplane',\n",
              " 'bird',\n",
              " 'car',\n",
              " 'cat',\n",
              " 'deer',\n",
              " 'dog',\n",
              " 'horse',\n",
              " 'monkey',\n",
              " 'ship',\n",
              " 'truck']"
            ]
          },
          "execution_count": 13,
          "metadata": {},
          "output_type": "execute_result"
        }
      ],
      "source": [
        "# 데이터 클래스 확인\n",
        "classes = train_dataloader.dataset.classes\n",
        "classes"
      ]
    },
    {
      "cell_type": "code",
      "execution_count": 14,
      "metadata": {
        "id": "WYNHKuNSOfeQ",
        "outputId": "695a2afd-9001-4e08-a508-a34b1ab18da3"
      },
      "outputs": [
        {
          "name": "stdout",
          "output_type": "stream",
          "text": [
            "(3, 96, 96)\n"
          ]
        },
        {
          "data": {
            "text/plain": [
              "<matplotlib.image.AxesImage at 0x7f10dd4a2c10>"
            ]
          },
          "execution_count": 14,
          "metadata": {},
          "output_type": "execute_result"
        },
        {
          "data": {
            "image/png": "[encoded data removed]",
            "text/plain": [
              "<Figure size 640x480 with 1 Axes>"
            ]
          },
          "metadata": {},
          "output_type": "display_data"
        }
      ],
      "source": [
        "# 데이터 이미지 확인\n",
        "\n",
        "# size 확인\n",
        "print(train_dataloader.dataset.data[1].shape) # 3, 96, 96\n",
        "\n",
        "# 이미지 출력\n",
        "plt.imshow(train_dataloader.dataset.data[0].T) # plt 는 가로, 세로, 채널을 받기 때문에 \"T\"로 전환"
      ]
    },
    {
      "cell_type": "code",
      "execution_count": 15,
      "metadata": {
        "id": "jhOA-S-FOfeQ"
      },
      "outputs": [],
      "source": [
        "class VGG11(nn.Module):\n",
        "    def __init__(self):\n",
        "        super(VGG11, self).__init__()\n",
        "        self.layer1 = nn.Sequential(\n",
        "            nn.Conv2d(in_channels=3, out_channels=64, kernel_size=3, stride=1, padding=1),\n",
        "            nn.ReLU(),\n",
        "            nn.MaxPool2d(kernel_size=2, stride=2)\n",
        "        )\n",
        "\n",
        "        self.layer2 = nn.Sequential(\n",
        "            nn.Conv2d(in_channels=64, out_channels=128, kernel_size=3, stride=1, padding=1),\n",
        "            nn.ReLU(),\n",
        "            nn.MaxPool2d(kernel_size=2, stride=2)\n",
        "        )\n",
        "\n",
        "        self.layer3 = nn.Sequential(\n",
        "            nn.Conv2d(in_channels=128, out_channels=256, kernel_size=3, stride=1, padding=1),\n",
        "            nn.ReLU(),\n",
        "            nn.Conv2d(in_channels=256, out_channels=256, kernel_size=3, stride=1, padding=1),\n",
        "            nn.ReLU(),\n",
        "            nn.MaxPool2d(kernel_size=2, stride=2)\n",
        "        )\n",
        "\n",
        "        self.layer4 = nn.Sequential(\n",
        "            nn.Conv2d(in_channels=256, out_channels=512, kernel_size=3, stride=1, padding=1),\n",
        "            nn.ReLU(),\n",
        "            nn.Conv2d(in_channels=512, out_channels=512, kernel_size=3, stride=1, padding=1),\n",
        "            nn.ReLU(),\n",
        "            nn.MaxPool2d(kernel_size=2, stride=2)\n",
        "        )\n",
        "\n",
        "        self.layer5 = nn.Sequential(\n",
        "            nn.Conv2d(in_channels=512, out_channels=512, kernel_size=3, stride=1, padding=1),\n",
        "            nn.ReLU(),\n",
        "            nn.Conv2d(in_channels=512, out_channels=512, kernel_size=3, stride=1, padding=1),\n",
        "            nn.ReLU(),\n",
        "            nn.MaxPool2d(kernel_size=2, stride=2)\n",
        "        )\n",
        "\n",
        "        # after Flatten\n",
        "        self.fc1 = nn.Sequential(\n",
        "            nn.Linear(in_features=512 * 7 * 7, out_features=4096),\n",
        "            nn.ReLU(),\n",
        "        )\n",
        "\n",
        "        self.fc2 = nn.Sequential(\n",
        "            nn.Linear(in_features= 4096, out_features=4096),\n",
        "            nn.ReLU()\n",
        "        )\n",
        "\n",
        "        self.fc3 = nn.Sequential(\n",
        "            nn.Linear(in_features=4096, out_features=10),\n",
        "        )\n",
        "\n",
        "    def forward(self, x):\n",
        "        x = self.layer1(x)\n",
        "        x = self.layer2(x)\n",
        "        x = self.layer3(x)\n",
        "        x = self.layer4(x)\n",
        "        x = self.layer5(x)\n",
        "\n",
        "        x = torch.flatten(input=x, start_dim=1)\n",
        "\n",
        "        x = self.fc1(x)\n",
        "        x = self.fc2(x)\n",
        "        x = self.fc3(x)\n",
        "\n",
        "        return x"
      ]
    },
    {
      "cell_type": "code",
      "execution_count": 16,
      "metadata": {
        "id": "monW1GqIOfeQ"
      },
      "outputs": [],
      "source": [
        "class VGG16(nn.Module): # 논문에서 Configuration D에 해당하는 16층짜리\n",
        "    def __init__(self):\n",
        "        super(VGG16, self).__init__()\n",
        "\n",
        "        # 최초 input : 224 * 224 * 3\n",
        "        self.layer1 = nn.Sequential(\n",
        "            nn.Conv2d(in_channels=3, out_channels=64, kernel_size=3, stride=1, padding=1,),\n",
        "            nn.ReLU(inplace=True),\n",
        "            nn.Conv2d(in_channels=64, out_channels=64, kernel_size=3, stride=1, padding=1),\n",
        "            nn.ReLU(inplace=True),\n",
        "            nn.MaxPool2d(kernel_size=2, stride=2)\n",
        "        ) # layer1 이후 : 112 * 112 * 64\n",
        "\n",
        "\n",
        "        self.layer2 = nn.Sequential(\n",
        "            nn.Conv2d(in_channels=64, out_channels=128, kernel_size=3, stride=1, padding=1),\n",
        "            nn.ReLU(inplace=True),\n",
        "            nn.Conv2d(in_channels=128, out_channels=128, kernel_size=3, stride=1, padding=1),\n",
        "            nn.ReLU(inplace=True),\n",
        "            nn.MaxPool2d(kernel_size=2, stride=2)\n",
        "        ) # layer2 이후 : 56 * 56 * 128\n",
        "\n",
        "\n",
        "        self.layer3 = nn.Sequential(\n",
        "            nn.Conv2d(in_channels=128, out_channels=256, kernel_size=3, stride=1, padding=1),\n",
        "            nn.ReLU(inplace=True),\n",
        "            nn.Conv2d(in_channels=256, out_channels=256, kernel_size=3, stride=1, padding=1),\n",
        "            nn.ReLU(inplace=True),\n",
        "            nn.Conv2d(in_channels=256, out_channels=256, kernel_size=3, stride=1, padding=1),\n",
        "            nn.ReLU(inplace=True),\n",
        "            nn.MaxPool2d(kernel_size=2, stride=2)\n",
        "        ) # layer3 이후 : 28 * 28 * 256\n",
        "\n",
        "        self.layer4 = nn.Sequential(\n",
        "            nn.Conv2d(in_channels=256, out_channels=512, kernel_size=3, stride=1, padding=1),\n",
        "            nn.ReLU(inplace=True),\n",
        "            nn.Conv2d(in_channels=512, out_channels=512, kernel_size=3, stride=1, padding=1),\n",
        "            nn.ReLU(inplace=True),\n",
        "            nn.Conv2d(in_channels=512, out_channels=512, kernel_size=3, stride=1, padding=1),\n",
        "            nn.ReLU(inplace=True),\n",
        "            nn.MaxPool2d(kernel_size=2, stride=2)\n",
        "        ) # layer4 이후 : 14 * 14 * 512)\n",
        "\n",
        "        self.layer5 = nn.Sequential(\n",
        "            nn.Conv2d(in_channels=512, out_channels=512, kernel_size=3, stride=1, padding=1),\n",
        "            nn.ReLU(inplace=True),\n",
        "            nn.Conv2d(in_channels=512, out_channels=512, kernel_size=3, stride=1, padding=1),\n",
        "            nn.ReLU(inplace=True),\n",
        "            nn.Conv2d(in_channels=512, out_channels=512, kernel_size=3, stride=1, padding=1),\n",
        "            nn.ReLU(inplace=True),\n",
        "            nn.MaxPool2d(kernel_size=2, stride=2)\n",
        "        ) # layer5 이후 : 7 * 7 * 512\n",
        "\n",
        "        # after Flatten\n",
        "        self.fc1 = nn.Sequential(\n",
        "            nn.Linear(in_features=7*7*512, out_features=4096),\n",
        "            nn.ReLU(inplace=True),\n",
        "            nn.Dropout(p=0.5)\n",
        "        )\n",
        "\n",
        "        self.fc2 = nn.Sequential(\n",
        "            nn.Linear(in_features=4096, out_features=4096),\n",
        "            nn.ReLU(inplace=True),\n",
        "            nn.Dropout(p=0.5)\n",
        "\n",
        "        )\n",
        "\n",
        "        self.fc3 = nn.Sequential(\n",
        "            nn.Linear(in_features=4096, out_features=10),\n",
        "            nn.ReLU(inplace=True)\n",
        "        )\n",
        "\n",
        "    def forward(self, x):\n",
        "        x = self.layer1(x)\n",
        "        x = self.layer2(x)\n",
        "        x = self.layer3(x)\n",
        "        x = self.layer4(x)\n",
        "        x = self.layer5(x)\n",
        "\n",
        "        # x = torch.flatten(input=x, start_dim=1)\n",
        "        x = x.view(x.size(0), -1)\n",
        "\n",
        "        x = self.fc1(x)\n",
        "        x = self.fc2(x)\n",
        "        x = self.fc3(x)\n",
        "\n",
        "        return x"
      ]
    },
    {
      "cell_type": "code",
      "execution_count": 17,
      "metadata": {
        "id": "kfBL0OqZOfeR",
        "outputId": "5d005400-3f38-4d8a-b728-e56e54131578"
      },
      "outputs": [
        {
          "name": "stdout",
          "output_type": "stream",
          "text": [
            "Using cuda device\n"
          ]
        },
        {
          "data": {
            "text/plain": [
              "VGG16(\n",
              "  (layer1): Sequential(\n",
              "    (0): Conv2d(3, 64, kernel_size=(3, 3), stride=(1, 1), padding=(1, 1))\n",
              "    (1): ReLU(inplace=True)\n",
              "    (2): Conv2d(64, 64, kernel_size=(3, 3), stride=(1, 1), padding=(1, 1))\n",
              "    (3): ReLU(inplace=True)\n",
              "    (4): MaxPool2d(kernel_size=2, stride=2, padding=0, dilation=1, ceil_mode=False)\n",
              "  )\n",
              "  (layer2): Sequential(\n",
              "    (0): Conv2d(64, 128, kernel_size=(3, 3), stride=(1, 1), padding=(1, 1))\n",
              "    (1): ReLU(inplace=True)\n",
              "    (2): Conv2d(128, 128, kernel_size=(3, 3), stride=(1, 1), padding=(1, 1))\n",
              "    (3): ReLU(inplace=True)\n",
              "    (4): MaxPool2d(kernel_size=2, stride=2, padding=0, dilation=1, ceil_mode=False)\n",
              "  )\n",
              "  (layer3): Sequential(\n",
              "    (0): Conv2d(128, 256, kernel_size=(3, 3), stride=(1, 1), padding=(1, 1))\n",
              "    (1): ReLU(inplace=True)\n",
              "    (2): Conv2d(256, 256, kernel_size=(3, 3), stride=(1, 1), padding=(1, 1))\n",
              "    (3): ReLU(inplace=True)\n",
              "    (4): Conv2d(256, 256, kernel_size=(3, 3), stride=(1, 1), padding=(1, 1))\n",
              "    (5): ReLU(inplace=True)\n",
              "    (6): MaxPool2d(kernel_size=2, stride=2, padding=0, dilation=1, ceil_mode=False)\n",
              "  )\n",
              "  (layer4): Sequential(\n",
              "    (0): Conv2d(256, 512, kernel_size=(3, 3), stride=(1, 1), padding=(1, 1))\n",
              "    (1): ReLU(inplace=True)\n",
              "    (2): Conv2d(512, 512, kernel_size=(3, 3), stride=(1, 1), padding=(1, 1))\n",
              "    (3): ReLU(inplace=True)\n",
              "    (4): Conv2d(512, 512, kernel_size=(3, 3), stride=(1, 1), padding=(1, 1))\n",
              "    (5): ReLU(inplace=True)\n",
              "    (6): MaxPool2d(kernel_size=2, stride=2, padding=0, dilation=1, ceil_mode=False)\n",
              "  )\n",
              "  (layer5): Sequential(\n",
              "    (0): Conv2d(512, 512, kernel_size=(3, 3), stride=(1, 1), padding=(1, 1))\n",
              "    (1): ReLU(inplace=True)\n",
              "    (2): Conv2d(512, 512, kernel_size=(3, 3), stride=(1, 1), padding=(1, 1))\n",
              "    (3): ReLU(inplace=True)\n",
              "    (4): Conv2d(512, 512, kernel_size=(3, 3), stride=(1, 1), padding=(1, 1))\n",
              "    (5): ReLU(inplace=True)\n",
              "    (6): MaxPool2d(kernel_size=2, stride=2, padding=0, dilation=1, ceil_mode=False)\n",
              "  )\n",
              "  (fc1): Sequential(\n",
              "    (0): Linear(in_features=25088, out_features=4096, bias=True)\n",
              "    (1): ReLU(inplace=True)\n",
              "    (2): Dropout(p=0.5, inplace=False)\n",
              "  )\n",
              "  (fc2): Sequential(\n",
              "    (0): Linear(in_features=4096, out_features=4096, bias=True)\n",
              "    (1): ReLU(inplace=True)\n",
              "    (2): Dropout(p=0.5, inplace=False)\n",
              "  )\n",
              "  (fc3): Sequential(\n",
              "    (0): Linear(in_features=4096, out_features=10, bias=True)\n",
              "    (1): ReLU(inplace=True)\n",
              "  )\n",
              ")"
            ]
          },
          "execution_count": 17,
          "metadata": {},
          "output_type": "execute_result"
        }
      ],
      "source": [
        "# model = VGG11()\n",
        "model = VGG16()\n",
        "device = 'cuda' if torch.cuda.is_available() else 'cpu'\n",
        "print(f'Using {device} device')\n",
        "model.to(device)"
      ]
    },
    {
      "cell_type": "code",
      "execution_count": 18,
      "metadata": {
        "id": "7hrZ1BUHOfeR",
        "outputId": "bf73b857-c8b4-4e98-8ef2-e06536c3ea84"
      },
      "outputs": [
        {
          "name": "stdout",
          "output_type": "stream",
          "text": [
            "----------------------------------------------------------------\n",
            "        Layer (type)               Output Shape         Param #\n",
            "================================================================\n",
            "            Conv2d-1         [-1, 64, 224, 224]           1,792\n",
            "              ReLU-2         [-1, 64, 224, 224]               0\n",
            "            Conv2d-3         [-1, 64, 224, 224]          36,928\n",
            "              ReLU-4         [-1, 64, 224, 224]               0\n",
            "         MaxPool2d-5         [-1, 64, 112, 112]               0\n",
            "            Conv2d-6        [-1, 128, 112, 112]          73,856\n",
            "              ReLU-7        [-1, 128, 112, 112]               0\n",
            "            Conv2d-8        [-1, 128, 112, 112]         147,584\n",
            "              ReLU-9        [-1, 128, 112, 112]               0\n",
            "        MaxPool2d-10          [-1, 128, 56, 56]               0\n",
            "           Conv2d-11          [-1, 256, 56, 56]         295,168\n",
            "             ReLU-12          [-1, 256, 56, 56]               0\n",
            "           Conv2d-13          [-1, 256, 56, 56]         590,080\n",
            "             ReLU-14          [-1, 256, 56, 56]               0\n",
            "           Conv2d-15          [-1, 256, 56, 56]         590,080\n",
            "             ReLU-16          [-1, 256, 56, 56]               0\n",
            "        MaxPool2d-17          [-1, 256, 28, 28]               0\n",
            "           Conv2d-18          [-1, 512, 28, 28]       1,180,160\n",
            "             ReLU-19          [-1, 512, 28, 28]               0\n",
            "           Conv2d-20          [-1, 512, 28, 28]       2,359,808\n",
            "             ReLU-21          [-1, 512, 28, 28]               0\n",
            "           Conv2d-22          [-1, 512, 28, 28]       2,359,808\n",
            "             ReLU-23          [-1, 512, 28, 28]               0\n",
            "        MaxPool2d-24          [-1, 512, 14, 14]               0\n",
            "           Conv2d-25          [-1, 512, 14, 14]       2,359,808\n",
            "             ReLU-26          [-1, 512, 14, 14]               0\n",
            "           Conv2d-27          [-1, 512, 14, 14]       2,359,808\n",
            "             ReLU-28          [-1, 512, 14, 14]               0\n",
            "           Conv2d-29          [-1, 512, 14, 14]       2,359,808\n",
            "             ReLU-30          [-1, 512, 14, 14]               0\n",
            "        MaxPool2d-31            [-1, 512, 7, 7]               0\n",
            "           Linear-32                 [-1, 4096]     102,764,544\n",
            "             ReLU-33                 [-1, 4096]               0\n",
            "          Dropout-34                 [-1, 4096]               0\n",
            "           Linear-35                 [-1, 4096]      16,781,312\n",
            "             ReLU-36                 [-1, 4096]               0\n",
            "          Dropout-37                 [-1, 4096]               0\n",
            "           Linear-38                   [-1, 10]          40,970\n",
            "             ReLU-39                   [-1, 10]               0\n",
            "================================================================\n",
            "Total params: 134,301,514\n",
            "Trainable params: 134,301,514\n",
            "Non-trainable params: 0\n",
            "----------------------------------------------------------------\n",
            "Input size (MB): 0.57\n",
            "Forward/backward pass size (MB): 218.58\n",
            "Params size (MB): 512.32\n",
            "Estimated Total Size (MB): 731.48\n",
            "----------------------------------------------------------------\n"
          ]
        }
      ],
      "source": [
        "from torchsummary import summary\n",
        "# model = VGG11()\n",
        "model = VGG16()\n",
        "summary(model, input_size=(3,224,224), device='cpu')"
      ]
    },
    {
      "cell_type": "code",
      "execution_count": 19,
      "metadata": {
        "id": "sBhkTfNgOfeS",
        "outputId": "62fee1f6-7b7e-470a-d1d6-a31e94435d1e"
      },
      "outputs": [
        {
          "name": "stdout",
          "output_type": "stream",
          "text": [
            "32\n",
            "torch.Size([64, 3, 3, 3])\n",
            "torch.Size([64])\n",
            "torch.Size([64, 64, 3, 3])\n",
            "torch.Size([64])\n",
            "torch.Size([128, 64, 3, 3])\n",
            "torch.Size([128])\n",
            "torch.Size([128, 128, 3, 3])\n",
            "torch.Size([128])\n",
            "torch.Size([256, 128, 3, 3])\n",
            "torch.Size([256])\n",
            "torch.Size([256, 256, 3, 3])\n",
            "torch.Size([256])\n",
            "torch.Size([256, 256, 3, 3])\n",
            "torch.Size([256])\n",
            "torch.Size([512, 256, 3, 3])\n",
            "torch.Size([512])\n",
            "torch.Size([512, 512, 3, 3])\n",
            "torch.Size([512])\n",
            "torch.Size([512, 512, 3, 3])\n",
            "torch.Size([512])\n",
            "torch.Size([512, 512, 3, 3])\n",
            "torch.Size([512])\n",
            "torch.Size([512, 512, 3, 3])\n",
            "torch.Size([512])\n",
            "torch.Size([512, 512, 3, 3])\n",
            "torch.Size([512])\n",
            "torch.Size([4096, 25088])\n",
            "torch.Size([4096])\n",
            "torch.Size([4096, 4096])\n",
            "torch.Size([4096])\n",
            "torch.Size([10, 4096])\n",
            "torch.Size([10])\n"
          ]
        }
      ],
      "source": [
        "# torch summary 없이 간편한 확인을 원한다면\n",
        "param = list(model.parameters())\n",
        "\n",
        "print(len(param))\n",
        "for i in param:\n",
        "    print(i.shape)"
      ]
    },
    {
      "cell_type": "code",
      "execution_count": 20,
      "metadata": {
        "id": "7HZWAXu0OfeS",
        "outputId": "565b1948-ded3-4871-8ba0-e94f9b6cac93"
      },
      "outputs": [
        {
          "data": {
            "text/plain": [
              "VGG16(\n",
              "  (layer1): Sequential(\n",
              "    (0): Conv2d(3, 64, kernel_size=(3, 3), stride=(1, 1), padding=(1, 1))\n",
              "    (1): ReLU(inplace=True)\n",
              "    (2): Conv2d(64, 64, kernel_size=(3, 3), stride=(1, 1), padding=(1, 1))\n",
              "    (3): ReLU(inplace=True)\n",
              "    (4): MaxPool2d(kernel_size=2, stride=2, padding=0, dilation=1, ceil_mode=False)\n",
              "  )\n",
              "  (layer2): Sequential(\n",
              "    (0): Conv2d(64, 128, kernel_size=(3, 3), stride=(1, 1), padding=(1, 1))\n",
              "    (1): ReLU(inplace=True)\n",
              "    (2): Conv2d(128, 128, kernel_size=(3, 3), stride=(1, 1), padding=(1, 1))\n",
              "    (3): ReLU(inplace=True)\n",
              "    (4): MaxPool2d(kernel_size=2, stride=2, padding=0, dilation=1, ceil_mode=False)\n",
              "  )\n",
              "  (layer3): Sequential(\n",
              "    (0): Conv2d(128, 256, kernel_size=(3, 3), stride=(1, 1), padding=(1, 1))\n",
              "    (1): ReLU(inplace=True)\n",
              "    (2): Conv2d(256, 256, kernel_size=(3, 3), stride=(1, 1), padding=(1, 1))\n",
              "    (3): ReLU(inplace=True)\n",
              "    (4): Conv2d(256, 256, kernel_size=(3, 3), stride=(1, 1), padding=(1, 1))\n",
              "    (5): ReLU(inplace=True)\n",
              "    (6): MaxPool2d(kernel_size=2, stride=2, padding=0, dilation=1, ceil_mode=False)\n",
              "  )\n",
              "  (layer4): Sequential(\n",
              "    (0): Conv2d(256, 512, kernel_size=(3, 3), stride=(1, 1), padding=(1, 1))\n",
              "    (1): ReLU(inplace=True)\n",
              "    (2): Conv2d(512, 512, kernel_size=(3, 3), stride=(1, 1), padding=(1, 1))\n",
              "    (3): ReLU(inplace=True)\n",
              "    (4): Conv2d(512, 512, kernel_size=(3, 3), stride=(1, 1), padding=(1, 1))\n",
              "    (5): ReLU(inplace=True)\n",
              "    (6): MaxPool2d(kernel_size=2, stride=2, padding=0, dilation=1, ceil_mode=False)\n",
              "  )\n",
              "  (layer5): Sequential(\n",
              "    (0): Conv2d(512, 512, kernel_size=(3, 3), stride=(1, 1), padding=(1, 1))\n",
              "    (1): ReLU(inplace=True)\n",
              "    (2): Conv2d(512, 512, kernel_size=(3, 3), stride=(1, 1), padding=(1, 1))\n",
              "    (3): ReLU(inplace=True)\n",
              "    (4): Conv2d(512, 512, kernel_size=(3, 3), stride=(1, 1), padding=(1, 1))\n",
              "    (5): ReLU(inplace=True)\n",
              "    (6): MaxPool2d(kernel_size=2, stride=2, padding=0, dilation=1, ceil_mode=False)\n",
              "  )\n",
              "  (fc1): Sequential(\n",
              "    (0): Linear(in_features=25088, out_features=4096, bias=True)\n",
              "    (1): ReLU(inplace=True)\n",
              "    (2): Dropout(p=0.5, inplace=False)\n",
              "  )\n",
              "  (fc2): Sequential(\n",
              "    (0): Linear(in_features=4096, out_features=4096, bias=True)\n",
              "    (1): ReLU(inplace=True)\n",
              "    (2): Dropout(p=0.5, inplace=False)\n",
              "  )\n",
              "  (fc3): Sequential(\n",
              "    (0): Linear(in_features=4096, out_features=10, bias=True)\n",
              "    (1): ReLU(inplace=True)\n",
              "  )\n",
              ")"
            ]
          },
          "execution_count": 20,
          "metadata": {},
          "output_type": "execute_result"
        }
      ],
      "source": [
        "criterion = nn.CrossEntropyLoss()\n",
        "# optimizer = torch.optim.SGD(model.parameters(), lr=0.001)\n",
        "optimizer = torch.optim.Adam(model.parameters(), lr=0.0001)\n",
        "\n",
        "criterion.to(device=device)\n",
        "model.to(device=device)"
      ]
    },
    {
      "cell_type": "code",
      "execution_count": 21,
      "metadata": {
        "id": "GMMlhYzIOfeS",
        "outputId": "07f91c2b-c884-4360-b8f9-49d8d79815a4"
      },
      "outputs": [
        {
          "name": "stdout",
          "output_type": "stream",
          "text": [
            "Training epoch : 1, [2304 / 5000] (46%), Loss : 2.303123\n",
            "Training epoch : 1, [4736 / 5000] (95%), Loss : 2.301453\n",
            "Training epoch : 2, [2304 / 5000] (46%), Loss : 2.302476\n",
            "Training epoch : 2, [4736 / 5000] (95%), Loss : 2.301985\n",
            "Training epoch : 3, [2304 / 5000] (46%), Loss : 2.299883\n",
            "Training epoch : 3, [4736 / 5000] (95%), Loss : 2.297969\n",
            "Training epoch : 4, [2304 / 5000] (46%), Loss : 2.301089\n",
            "Training epoch : 4, [4736 / 5000] (95%), Loss : 2.302691\n",
            "Training epoch : 5, [2304 / 5000] (46%), Loss : 2.302581\n",
            "Training epoch : 5, [4736 / 5000] (95%), Loss : 2.302586\n",
            "Training epoch : 6, [2304 / 5000] (46%), Loss : 2.302576\n",
            "Training epoch : 6, [4736 / 5000] (95%), Loss : 2.302496\n",
            "Training epoch : 7, [2304 / 5000] (46%), Loss : 2.302092\n",
            "Training epoch : 7, [4736 / 5000] (95%), Loss : 2.302585\n",
            "Training epoch : 8, [2304 / 5000] (46%), Loss : 2.302585\n",
            "Training epoch : 8, [4736 / 5000] (95%), Loss : 2.302624\n",
            "Training epoch : 9, [2304 / 5000] (46%), Loss : 2.302585\n",
            "Training epoch : 9, [4736 / 5000] (95%), Loss : 2.302609\n",
            "Training epoch : 10, [2304 / 5000] (46%), Loss : 2.302595\n",
            "Training epoch : 10, [4736 / 5000] (95%), Loss : 2.302585\n",
            "Training epoch : 11, [2304 / 5000] (46%), Loss : 2.302585\n",
            "Training epoch : 11, [4736 / 5000] (95%), Loss : 2.302585\n",
            "Training epoch : 12, [2304 / 5000] (46%), Loss : 2.302585\n",
            "Training epoch : 12, [4736 / 5000] (95%), Loss : 2.302585\n",
            "Training epoch : 13, [2304 / 5000] (46%), Loss : 2.302815\n",
            "Training epoch : 13, [4736 / 5000] (95%), Loss : 2.302585\n",
            "Training epoch : 14, [2304 / 5000] (46%), Loss : 2.302585\n",
            "Training epoch : 14, [4736 / 5000] (95%), Loss : 2.302585\n",
            "Training epoch : 15, [2304 / 5000] (46%), Loss : 2.302585\n",
            "Training epoch : 15, [4736 / 5000] (95%), Loss : 2.302585\n",
            "Training epoch : 16, [2304 / 5000] (46%), Loss : 2.302585\n",
            "Training epoch : 16, [4736 / 5000] (95%), Loss : 2.302585\n",
            "Training epoch : 17, [2304 / 5000] (46%), Loss : 2.302585\n",
            "Training epoch : 17, [4736 / 5000] (95%), Loss : 2.302585\n",
            "Training epoch : 18, [2304 / 5000] (46%), Loss : 2.302585\n",
            "Training epoch : 18, [4736 / 5000] (95%), Loss : 2.302585\n",
            "Training epoch : 19, [2304 / 5000] (46%), Loss : 2.302585\n",
            "Training epoch : 19, [4736 / 5000] (95%), Loss : 2.302585\n",
            "Training epoch : 20, [2304 / 5000] (46%), Loss : 2.302585\n",
            "Training epoch : 20, [4736 / 5000] (95%), Loss : 2.302585\n",
            "Training epoch : 21, [2304 / 5000] (46%), Loss : 2.302585\n",
            "Training epoch : 21, [4736 / 5000] (95%), Loss : 2.302585\n",
            "Training epoch : 22, [2304 / 5000] (46%), Loss : 2.302585\n",
            "Training epoch : 22, [4736 / 5000] (95%), Loss : 2.302585\n",
            "Training epoch : 23, [2304 / 5000] (46%), Loss : 2.302585\n",
            "Training epoch : 23, [4736 / 5000] (95%), Loss : 2.302585\n",
            "Training epoch : 24, [2304 / 5000] (46%), Loss : 2.302585\n",
            "Training epoch : 24, [4736 / 5000] (95%), Loss : 2.302585\n",
            "Training epoch : 25, [2304 / 5000] (46%), Loss : 2.302585\n",
            "Training epoch : 25, [4736 / 5000] (95%), Loss : 2.302585\n",
            "Training epoch : 26, [2304 / 5000] (46%), Loss : 2.302585\n",
            "Training epoch : 26, [4736 / 5000] (95%), Loss : 2.302585\n",
            "Training epoch : 27, [2304 / 5000] (46%), Loss : 2.302585\n",
            "Training epoch : 27, [4736 / 5000] (95%), Loss : 2.302585\n",
            "Training epoch : 28, [2304 / 5000] (46%), Loss : 2.302585\n",
            "Training epoch : 28, [4736 / 5000] (95%), Loss : 2.302585\n",
            "Training epoch : 29, [2304 / 5000] (46%), Loss : 2.302585\n",
            "Training epoch : 29, [4736 / 5000] (95%), Loss : 2.302585\n",
            "Training epoch : 30, [2304 / 5000] (46%), Loss : 2.302585\n",
            "Training epoch : 30, [4736 / 5000] (95%), Loss : 2.302585\n",
            "Training epoch : 31, [2304 / 5000] (46%), Loss : 2.302585\n",
            "Training epoch : 31, [4736 / 5000] (95%), Loss : 2.302585\n",
            "Training epoch : 32, [2304 / 5000] (46%), Loss : 2.302585\n",
            "Training epoch : 32, [4736 / 5000] (95%), Loss : 2.302585\n",
            "Training epoch : 33, [2304 / 5000] (46%), Loss : 2.302585\n",
            "Training epoch : 33, [4736 / 5000] (95%), Loss : 2.302585\n",
            "Training epoch : 34, [2304 / 5000] (46%), Loss : 2.302585\n",
            "Training epoch : 34, [4736 / 5000] (95%), Loss : 2.302585\n",
            "Training epoch : 35, [2304 / 5000] (46%), Loss : 2.302585\n",
            "Training epoch : 35, [4736 / 5000] (95%), Loss : 2.302585\n",
            "Training epoch : 36, [2304 / 5000] (46%), Loss : 2.302585\n",
            "Training epoch : 36, [4736 / 5000] (95%), Loss : 2.302585\n",
            "Training epoch : 37, [2304 / 5000] (46%), Loss : 2.302695\n",
            "Training epoch : 37, [4736 / 5000] (95%), Loss : 2.302591\n",
            "Training epoch : 38, [2304 / 5000] (46%), Loss : 2.302585\n",
            "Training epoch : 38, [4736 / 5000] (95%), Loss : 2.302585\n",
            "Training epoch : 39, [2304 / 5000] (46%), Loss : 2.302585\n",
            "Training epoch : 39, [4736 / 5000] (95%), Loss : 2.302585\n",
            "Training epoch : 40, [2304 / 5000] (46%), Loss : 2.302585\n",
            "Training epoch : 40, [4736 / 5000] (95%), Loss : 2.302585\n",
            "Training epoch : 41, [2304 / 5000] (46%), Loss : 2.302585\n",
            "Training epoch : 41, [4736 / 5000] (95%), Loss : 2.302585\n",
            "Training epoch : 42, [2304 / 5000] (46%), Loss : 2.302585\n",
            "Training epoch : 42, [4736 / 5000] (95%), Loss : 2.302585\n",
            "Training epoch : 43, [2304 / 5000] (46%), Loss : 2.302585\n",
            "Training epoch : 43, [4736 / 5000] (95%), Loss : 2.302585\n",
            "Training epoch : 44, [2304 / 5000] (46%), Loss : 2.302585\n",
            "Training epoch : 44, [4736 / 5000] (95%), Loss : 2.302585\n",
            "Training epoch : 45, [2304 / 5000] (46%), Loss : 2.302585\n",
            "Training epoch : 45, [4736 / 5000] (95%), Loss : 2.302585\n",
            "Training epoch : 46, [2304 / 5000] (46%), Loss : 2.302585\n",
            "Training epoch : 46, [4736 / 5000] (95%), Loss : 2.302585\n",
            "Training epoch : 47, [2304 / 5000] (46%), Loss : 2.302585\n",
            "Training epoch : 47, [4736 / 5000] (95%), Loss : 2.302585\n",
            "Training epoch : 48, [2304 / 5000] (46%), Loss : 2.302585\n",
            "Training epoch : 48, [4736 / 5000] (95%), Loss : 2.302585\n",
            "Training epoch : 49, [2304 / 5000] (46%), Loss : 2.302585\n",
            "Training epoch : 49, [4736 / 5000] (95%), Loss : 2.302585\n",
            "Training epoch : 50, [2304 / 5000] (46%), Loss : 2.302585\n",
            "Training epoch : 50, [4736 / 5000] (95%), Loss : 2.302585\n",
            "Training epoch : 51, [2304 / 5000] (46%), Loss : 2.302585\n",
            "Training epoch : 51, [4736 / 5000] (95%), Loss : 2.302585\n",
            "Training epoch : 52, [2304 / 5000] (46%), Loss : 2.302586\n",
            "Training epoch : 52, [4736 / 5000] (95%), Loss : 2.302585\n",
            "Training epoch : 53, [2304 / 5000] (46%), Loss : 2.302585\n",
            "Training epoch : 53, [4736 / 5000] (95%), Loss : 2.302585\n",
            "Training epoch : 54, [2304 / 5000] (46%), Loss : 2.302585\n",
            "Training epoch : 54, [4736 / 5000] (95%), Loss : 2.302585\n",
            "Training epoch : 55, [2304 / 5000] (46%), Loss : 2.302585\n",
            "Training epoch : 55, [4736 / 5000] (95%), Loss : 2.302585\n",
            "Training epoch : 56, [2304 / 5000] (46%), Loss : 2.302585\n",
            "Training epoch : 56, [4736 / 5000] (95%), Loss : 2.302585\n",
            "Training epoch : 57, [2304 / 5000] (46%), Loss : 2.302585\n",
            "Training epoch : 57, [4736 / 5000] (95%), Loss : 2.302585\n",
            "Training epoch : 58, [2304 / 5000] (46%), Loss : 2.302585\n",
            "Training epoch : 58, [4736 / 5000] (95%), Loss : 2.302585\n",
            "Training epoch : 59, [2304 / 5000] (46%), Loss : 2.302585\n",
            "Training epoch : 59, [4736 / 5000] (95%), Loss : 2.302585\n",
            "Training epoch : 60, [2304 / 5000] (46%), Loss : 2.302585\n",
            "Training epoch : 60, [4736 / 5000] (95%), Loss : 2.302585\n",
            "Training epoch : 61, [2304 / 5000] (46%), Loss : 2.302585\n",
            "Training epoch : 61, [4736 / 5000] (95%), Loss : 2.302585\n",
            "Training epoch : 62, [2304 / 5000] (46%), Loss : 2.302585\n",
            "Training epoch : 62, [4736 / 5000] (95%), Loss : 2.302585\n",
            "Training epoch : 63, [2304 / 5000] (46%), Loss : 2.302585\n",
            "Training epoch : 63, [4736 / 5000] (95%), Loss : 2.302585\n",
            "Training epoch : 64, [2304 / 5000] (46%), Loss : 2.302585\n",
            "Training epoch : 64, [4736 / 5000] (95%), Loss : 2.302585\n",
            "Training epoch : 65, [2304 / 5000] (46%), Loss : 2.302585\n",
            "Training epoch : 65, [4736 / 5000] (95%), Loss : 2.302585\n",
            "Training epoch : 66, [2304 / 5000] (46%), Loss : 2.302585\n",
            "Training epoch : 66, [4736 / 5000] (95%), Loss : 2.302585\n",
            "Training epoch : 67, [2304 / 5000] (46%), Loss : 2.302585\n",
            "Training epoch : 67, [4736 / 5000] (95%), Loss : 2.302585\n",
            "Training epoch : 68, [2304 / 5000] (46%), Loss : 2.302585\n",
            "Training epoch : 68, [4736 / 5000] (95%), Loss : 2.302585\n",
            "Training epoch : 69, [2304 / 5000] (46%), Loss : 2.302585\n",
            "Training epoch : 69, [4736 / 5000] (95%), Loss : 2.302585\n",
            "Training epoch : 70, [2304 / 5000] (46%), Loss : 2.302585\n",
            "Training epoch : 70, [4736 / 5000] (95%), Loss : 2.302585\n",
            "Training epoch : 71, [2304 / 5000] (46%), Loss : 2.302585\n",
            "Training epoch : 71, [4736 / 5000] (95%), Loss : 2.302585\n"
          ]
        }
      ],
      "source": [
        "# 학습\n",
        "num_epochs = 100 # 에폭 설정\n",
        "\n",
        "for epoch in range(num_epochs):\n",
        "    running_loss = 0.0\n",
        "\n",
        "    for i, data in enumerate(train_dataloader):\n",
        "        images, labels = data\n",
        "        images, labels = images.to(device), labels.to(device)\n",
        "\n",
        "        #Forward pass\n",
        "        outputs = model(images) # 모델 예측 시행\n",
        "        loss = criterion(outputs, labels) # 예측에 따른 손실 계산 및 출력\n",
        "\n",
        "        # backward pass\n",
        "        optimizer.zero_grad() # 가중치 변화를 0으로 만들고\n",
        "        loss.backward() # 역전파를 수행하고\n",
        "        optimizer.step() # 가중치를 갱신\n",
        "\n",
        "        running_loss += loss.item()\n",
        "        # 100번에 한번씩 loss 출력\n",
        "        if i % 19 == 18:\n",
        "            print(f'Training epoch : {epoch+1}, [{i * len(images)} / {len(train_dataloader.dataset)}] ({100 * i / len(train_dataloader):0.0f}%), Loss : {running_loss/19:0.6f}')\n",
        "            running_loss = 0.0\n",
        "\n",
        "print('학습종료!')"
      ]
    },
    {
      "cell_type": "code",
      "execution_count": 22,
      "metadata": {
        "id": "DitwhBr4OfeS"
      },
      "outputs": [],
      "source": [
        "# test\n",
        "model.eval() # drop out 같은 학습에만 필요하고 test에는 불필요한 층을 비활성화\n",
        "\n",
        "# 클래스 개수대로 정답 개수, 총 개수 구하기\n",
        "class_correct = list(0. for i in range(10))\n",
        "class_total = list(0. for i in range(10))\n",
        "\n",
        "\n",
        "with torch.no_grad(): # gradient 연산을 멈춘 상태로 계산, 메모리 절약 및 연산속도 증가\n",
        "    for data in test_dataloader:\n",
        "        images, labels = data\n",
        "        images, labels = images.to(device), labels.to(device)\n",
        "\n",
        "        # 결과 예측\n",
        "        outputs = model(images) # 모델 실행\n",
        "\n",
        "        # 이미지가 가질 수 있는 라벨 중 가장 높은 확률과 인덱스(라벨)를 출력\n",
        "        _, predicted = torch.max(outputs.data, dim=1)\n",
        "\n",
        "        # 라벨과 정답이 일치하는지 확인\n",
        "        c = (predicted == labels).squeeze()\n",
        "\n",
        "        # 한번에 배치 사이즈만큼 예측하기 때문에 batch_size 개수만큼 예측 결과가 나옴\n",
        "        for i in range(test_dataloader.batch_size):\n",
        "            label = labels[i]\n",
        "            class_correct[label] += c[i].item()\n",
        "            class_total[label] += 1"
      ]
    },
    {
      "cell_type": "code",
      "execution_count": 23,
      "metadata": {
        "id": "pajYOZYWOfeT",
        "outputId": "77d786f3-5eda-40a4-ae22-2043e9e027ab"
      },
      "outputs": [
        {
          "name": "stdout",
          "output_type": "stream",
          "text": [
            "Accuracy of airplane : 100 %\n",
            "Accuracy of  bird :  0 %\n",
            "Accuracy of   car :  0 %\n",
            "Accuracy of   cat :  0 %\n",
            "Accuracy of  deer :  0 %\n",
            "Accuracy of   dog :  0 %\n",
            "Accuracy of horse :  0 %\n",
            "Accuracy of monkey :  0 %\n",
            "Accuracy of  ship :  0 %\n",
            "Accuracy of truck :  0 %\n",
            "Total accuracy : 10.01%\n"
          ]
        }
      ],
      "source": [
        "# test 결과 확인\n",
        "total_correct = 0\n",
        "total = 0\n",
        "\n",
        "for i in range(10):\n",
        "    total_correct += class_correct[i]\n",
        "    total += class_total[i]\n",
        "    print('Accuracy of %5s : %2d %%' % (\n",
        "        classes[i], 100 * class_correct[i] / class_total[i]))\n",
        "\n",
        "print(f'Total accuracy : {100 * total_correct/total:0.2f}%')"
      ]
    }
  ],
  "metadata": {
    "colab": {
      "provenance": []
    },
    "kernelspec": {
      "display_name": "scratch",
      "language": "python",
      "name": "python3"
    },
    "language_info": {
      "codemirror_mode": {
        "name": "ipython",
        "version": 3
      },
      "file_extension": ".py",
      "mimetype": "text/x-python",
      "name": "python",
      "nbconvert_exporter": "python",
      "pygments_lexer": "ipython3",
      "version": "3.8.17"
    },
    "orig_nbformat": 4
  },
  "nbformat": 4,
  "nbformat_minor": 0
}
