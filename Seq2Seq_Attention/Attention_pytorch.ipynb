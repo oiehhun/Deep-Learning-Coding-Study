{
 "cells": [
  {
   "cell_type": "markdown",
   "metadata": {},
   "source": [
    "# Module"
   ]
  },
  {
   "cell_type": "code",
   "execution_count": 1,
   "metadata": {},
   "outputs": [],
   "source": [
    "import os\n",
    "import numpy as np\n",
    "import pandas as pd\n",
    "import matplotlib.pyplot as plt\n",
    "import matplotlib.ticker as ticker\n",
    "import random\n",
    "import warnings\n",
    "warnings.filterwarnings('ignore')\n",
    "import time\n",
    "import math"
   ]
  },
  {
   "cell_type": "code",
   "execution_count": 2,
   "metadata": {},
   "outputs": [
    {
     "data": {
      "text/html": [
       "<div>\n",
       "<style scoped>\n",
       "    .dataframe tbody tr th:only-of-type {\n",
       "        vertical-align: middle;\n",
       "    }\n",
       "\n",
       "    .dataframe tbody tr th {\n",
       "        vertical-align: top;\n",
       "    }\n",
       "\n",
       "    .dataframe thead th {\n",
       "        text-align: right;\n",
       "    }\n",
       "</style>\n",
       "<table border=\"1\" class=\"dataframe\">\n",
       "  <thead>\n",
       "    <tr style=\"text-align: right;\">\n",
       "      <th></th>\n",
       "      <th>Q</th>\n",
       "      <th>A</th>\n",
       "      <th>label</th>\n",
       "    </tr>\n",
       "  </thead>\n",
       "  <tbody>\n",
       "    <tr>\n",
       "      <th>0</th>\n",
       "      <td>12시 땡!</td>\n",
       "      <td>하루가 또 가네요.</td>\n",
       "      <td>0</td>\n",
       "    </tr>\n",
       "    <tr>\n",
       "      <th>1</th>\n",
       "      <td>1지망 학교 떨어졌어</td>\n",
       "      <td>위로해 드립니다.</td>\n",
       "      <td>0</td>\n",
       "    </tr>\n",
       "    <tr>\n",
       "      <th>2</th>\n",
       "      <td>3박4일 놀러가고 싶다</td>\n",
       "      <td>여행은 언제나 좋죠.</td>\n",
       "      <td>0</td>\n",
       "    </tr>\n",
       "    <tr>\n",
       "      <th>3</th>\n",
       "      <td>3박4일 정도 놀러가고 싶다</td>\n",
       "      <td>여행은 언제나 좋죠.</td>\n",
       "      <td>0</td>\n",
       "    </tr>\n",
       "    <tr>\n",
       "      <th>4</th>\n",
       "      <td>PPL 심하네</td>\n",
       "      <td>눈살이 찌푸려지죠.</td>\n",
       "      <td>0</td>\n",
       "    </tr>\n",
       "  </tbody>\n",
       "</table>\n",
       "</div>"
      ],
      "text/plain": [
       "                 Q            A  label\n",
       "0           12시 땡!   하루가 또 가네요.      0\n",
       "1      1지망 학교 떨어졌어    위로해 드립니다.      0\n",
       "2     3박4일 놀러가고 싶다  여행은 언제나 좋죠.      0\n",
       "3  3박4일 정도 놀러가고 싶다  여행은 언제나 좋죠.      0\n",
       "4          PPL 심하네   눈살이 찌푸려지죠.      0"
      ]
     },
     "execution_count": 2,
     "metadata": {},
     "output_type": "execute_result"
    }
   ],
   "source": [
    "df = pd.read_csv('/home/xogns5037/딥러닝코딩스터디/seq2seq_attention/ChatbotData.csv')\n",
    "df.head()"
   ]
  },
  {
   "cell_type": "code",
   "execution_count": 3,
   "metadata": {},
   "outputs": [],
   "source": [
    "question = df['Q']\n",
    "answer = df['A']"
   ]
  },
  {
   "cell_type": "markdown",
   "metadata": {},
   "source": [
    "# Data preprocessing"
   ]
  },
  {
   "cell_type": "code",
   "execution_count": 4,
   "metadata": {},
   "outputs": [],
   "source": [
    "import re\n",
    "\n",
    "# 한글, 영어, 숫자, 공백, ?!.,을 제외한 나머지 문자 제거\n",
    "korean_pattern = r'[^ ?,.!A-Za-z0-9가-힣+]'\n",
    "\n",
    "# 패턴 컴파일\n",
    "normalizer = re.compile(korean_pattern)"
   ]
  },
  {
   "cell_type": "code",
   "execution_count": 5,
   "metadata": {},
   "outputs": [],
   "source": [
    "def normalize(sentence):\n",
    "    return normalizer.sub(\"\", sentence)"
   ]
  },
  {
   "cell_type": "markdown",
   "metadata": {},
   "source": [
    "## 형태소 분석기"
   ]
  },
  {
   "cell_type": "code",
   "execution_count": 6,
   "metadata": {},
   "outputs": [],
   "source": [
    "from konlpy.tag import Okt"
   ]
  },
  {
   "cell_type": "code",
   "execution_count": 7,
   "metadata": {},
   "outputs": [],
   "source": [
    "okt = Okt()"
   ]
  },
  {
   "cell_type": "code",
   "execution_count": 8,
   "metadata": {},
   "outputs": [],
   "source": [
    "# 한글 전처리를 함수화\n",
    "def clean_text(sentence):\n",
    "    sentence = normalize(sentence)\n",
    "    sentence = okt.morphs(sentence) # okt.morphs : 형태소 분석기\n",
    "    sentence = ' '.join(sentence)\n",
    "    sentence = sentence.lower()\n",
    "    return sentence"
   ]
  },
  {
   "cell_type": "code",
   "execution_count": 9,
   "metadata": {},
   "outputs": [
    {
     "data": {
      "text/plain": [
       "(11823, 11823)"
      ]
     },
     "execution_count": 9,
     "metadata": {},
     "output_type": "execute_result"
    }
   ],
   "source": [
    "len(question), len(answer)"
   ]
  },
  {
   "cell_type": "code",
   "execution_count": 10,
   "metadata": {},
   "outputs": [],
   "source": [
    "questions = [clean_text(sent) for sent in question.values]\n",
    "answers = [clean_text(sent) for sent in answer.values]"
   ]
  },
  {
   "cell_type": "code",
   "execution_count": 11,
   "metadata": {},
   "outputs": [
    {
     "data": {
      "text/plain": [
       "['12시 땡 !', '1 지망 학교 떨어졌어', '3 박 4일 놀러 가고 싶다']"
      ]
     },
     "execution_count": 11,
     "metadata": {},
     "output_type": "execute_result"
    }
   ],
   "source": [
    "questions[:3]"
   ]
  },
  {
   "cell_type": "code",
   "execution_count": 12,
   "metadata": {},
   "outputs": [
    {
     "data": {
      "text/plain": [
       "['하루 가 또 가네요 .', '위로 해 드립니다 .', '여행 은 언제나 좋죠 .']"
      ]
     },
     "execution_count": 12,
     "metadata": {},
     "output_type": "execute_result"
    }
   ],
   "source": [
    "answers[:3]"
   ]
  },
  {
   "cell_type": "markdown",
   "metadata": {},
   "source": [
    "## 단어 사전 생성"
   ]
  },
  {
   "cell_type": "code",
   "execution_count": 13,
   "metadata": {},
   "outputs": [
    {
     "data": {
      "text/plain": [
       "device(type='cuda', index=1)"
      ]
     },
     "execution_count": 13,
     "metadata": {},
     "output_type": "execute_result"
    }
   ],
   "source": [
    "import torch\n",
    "import torch.nn as nn\n",
    "from torch import optim\n",
    "import torch.nn.functional as F\n",
    "from torch.utils.data.dataset import Dataset\n",
    "\n",
    "device = torch.device(\"cuda:1\" if torch.cuda.is_available() else \"cpu\")\n",
    "device"
   ]
  },
  {
   "cell_type": "code",
   "execution_count": 14,
   "metadata": {},
   "outputs": [],
   "source": [
    "class WordVocab():\n",
    "    def __init__(self):\n",
    "        # Special token\n",
    "        SOS_TOKEN = 0 # Start of sentence\n",
    "        EOS_TOKEN = 1 # End of sentence\n",
    "        UNKNOWN_TOKEN = 2 # Unknown word token\n",
    "        \n",
    "        self.unknown_token = UNKNOWN_TOKEN\n",
    "        \n",
    "        # 각 토큰 별 word count\n",
    "        self.word2count = {}\n",
    "        \n",
    "        # word -> idx\n",
    "        self.word2index = {\n",
    "            '<SOS>': SOS_TOKEN, \n",
    "            '<EOS>': EOS_TOKEN,\n",
    "            '<UKN>': UNKNOWN_TOKEN,\n",
    "        }\n",
    "\n",
    "        # idx -> word\n",
    "        self.index2word = {\n",
    "            SOS_TOKEN: '<SOS>', \n",
    "            EOS_TOKEN: '<EOS>', \n",
    "            UNKNOWN_TOKEN: '<UKN>',\n",
    "        }\n",
    "        \n",
    "        # total word counts\n",
    "        self.n_words = 3  # SOS, EOS, UNKNOWN 포함\n",
    "\n",
    "    # 문장으로 추가 시\n",
    "    def add_sentence(self, sentence):\n",
    "        for word in sentence.split(' '):\n",
    "            self.add_word(word)\n",
    "\n",
    "    # 단어 사전 등록\n",
    "    def add_word(self, word):\n",
    "        if word not in self.word2index:\n",
    "            self.word2index[word] = self.n_words\n",
    "            self.word2count[word] = 1\n",
    "            self.index2word[self.n_words] = word\n",
    "            self.n_words += 1\n",
    "        else:\n",
    "            self.word2count[word] += 1\n",
    "    \n",
    "    # 단어를 index로 변환\n",
    "    def word_to_index(self, word):\n",
    "        if word in self.word2index:\n",
    "            return self.word2index[word]\n",
    "        else:\n",
    "            return self.unknown_token\n",
    "        \n",
    "    # index를 단어로 변환\n",
    "    def index_to_word(self, idx):\n",
    "        return self.index2word[idx]"
   ]
  },
  {
   "cell_type": "markdown",
   "metadata": {},
   "source": [
    "## Torch dataset"
   ]
  },
  {
   "cell_type": "code",
   "execution_count": 15,
   "metadata": {},
   "outputs": [],
   "source": [
    "class QADataset():\n",
    "    def __init__(self, q, a, max_length=30):\n",
    "        self.q = q\n",
    "        self.a = a\n",
    "        self.max_length = max_length # 한 문장의 최대 길이 지정\n",
    "        self.SOS_TOKEN = 0 # SOS 토큰\n",
    "        self.EOS_TOKEN = 1 # EOS 토큰\n",
    "        # 단어 사전 생성\n",
    "        wordvocab = WordVocab()\n",
    "        \n",
    "        for x, y in zip(q,a):\n",
    "    \n",
    "            wordvocab.add_sentence(x)\n",
    "            wordvocab.add_sentence(y)       \n",
    "        \n",
    "        self.wordvocab = wordvocab\n",
    "    \n",
    "    def texts_to_sequences(self, sentence):\n",
    "        # 문장 -> 시퀀스로 변환\n",
    "        sequences = [self.wordvocab.word_to_index(w) for w in sentence.split()]\n",
    "        # 문장 최대 길이 -1 까지 슬라이싱\n",
    "        sequences = sequences[:self.max_length-1]\n",
    "        # 맨 마지막에 EOS TOKEN 추가\n",
    "        sequences.append(self.EOS_TOKEN)\n",
    "        return sequences\n",
    "    \n",
    "    def sequences_to_texts(self, sequences):\n",
    "        # 시퀀스 -> 문장으로 변환\n",
    "        sentences = [self.wordvocab.index_to_word(s.item()) for s in sequences]\n",
    "        return ' '.join(sentences)\n",
    "\n",
    "    \n",
    "    def __getitem__(self, idx):\n",
    "        inputs = self.q[idx]\n",
    "        inputs_sequences = self.texts_to_sequences(inputs)\n",
    "        \n",
    "        outputs = self.a[idx]\n",
    "        outputs_sequences = self.texts_to_sequences(outputs)\n",
    "        \n",
    "        return torch.tensor(inputs_sequences).view(-1, 1), torch.tensor(outputs_sequences).view(-1, 1)\n",
    "    \n",
    "    def __len__(self):\n",
    "        return len(self.q)"
   ]
  },
  {
   "cell_type": "code",
   "execution_count": 16,
   "metadata": {},
   "outputs": [],
   "source": [
    "dataset = QADataset(questions,answers)"
   ]
  },
  {
   "cell_type": "code",
   "execution_count": 17,
   "metadata": {},
   "outputs": [
    {
     "data": {
      "text/plain": [
       "(tensor([[18],\n",
       "         [19],\n",
       "         [20],\n",
       "         [28],\n",
       "         [21],\n",
       "         [22],\n",
       "         [23],\n",
       "         [ 1]]),\n",
       " tensor([[24],\n",
       "         [25],\n",
       "         [26],\n",
       "         [27],\n",
       "         [10],\n",
       "         [ 1]]))"
      ]
     },
     "execution_count": 17,
     "metadata": {},
     "output_type": "execute_result"
    }
   ],
   "source": [
    "dataset[3]"
   ]
  },
  {
   "cell_type": "code",
   "execution_count": 18,
   "metadata": {},
   "outputs": [
    {
     "name": "stdout",
     "output_type": "stream",
     "text": [
      "3 박 4일 정도 놀러 가고 싶다 <EOS>\n",
      "여행 은 언제나 좋죠 . <EOS>\n"
     ]
    }
   ],
   "source": [
    "x, y = dataset[3]\n",
    "\n",
    "# 시퀀스를 문장으로 변환\n",
    "print(dataset.sequences_to_texts(x))\n",
    "print(dataset.sequences_to_texts(y))"
   ]
  },
  {
   "cell_type": "markdown",
   "metadata": {},
   "source": [
    "# 모형"
   ]
  },
  {
   "cell_type": "markdown",
   "metadata": {},
   "source": [
    "## Encoder"
   ]
  },
  {
   "cell_type": "code",
   "execution_count": 19,
   "metadata": {},
   "outputs": [],
   "source": [
    "class Encoder(nn.Module):\n",
    "    def __init__(self, num_vocabs, hidden_size, embedding_dim, num_layers):\n",
    "        super(Encoder, self).__init__()\n",
    "        \n",
    "        # 단어 사전의 개수 지정\n",
    "        self.num_vocabs = num_vocabs\n",
    "        self.embedding_dim = embedding_dim\n",
    "        self.hidden_size = hidden_size\n",
    "        \n",
    "        # 임베딩 레이어 정의 (number of vocabs, embedding dimension)\n",
    "        self.embedding = nn.Embedding(num_vocabs, embedding_dim)\n",
    "        # GRU (embedding dimension)\n",
    "        self.gru = nn.GRU(embedding_dim, \n",
    "                          hidden_size, \n",
    "                          num_layers=num_layers, \n",
    "                          bidirectional=False, \n",
    "                          batch_first=True,\n",
    "                         )\n",
    "        \n",
    "    def forward(self, x, hidden):\n",
    "        x = self.embedding(x).view(1, 1, -1)\n",
    "        # x: (1, 1, embedding_dim)\n",
    "        # hidden: (Bidirectional(1) x number of layers(1), batch_size, hidden_size(32))\n",
    "        output, hidden = self.gru(x, hidden)\n",
    "        # output: (batch_size, sequence_length, hidden_size(32) x bidirectional(1))\n",
    "        # hidden: (Bidirectional(1) x number of layers(1), batch_size, hidden_size(32))\n",
    "        return output, hidden\n",
    "    \n",
    "    def init_hidden(self, device):\n",
    "        # hidden_state: (Bidirectional(1) x number of layers(1), batch_size, hidden_size(32)) 로 초기화\n",
    "        return torch.zeros(1, 1, self.hidden_size, device=device)"
   ]
  },
  {
   "cell_type": "markdown",
   "metadata": {},
   "source": [
    "## Decoder"
   ]
  },
  {
   "cell_type": "code",
   "execution_count": 20,
   "metadata": {},
   "outputs": [],
   "source": [
    "class AttentionDecoder(nn.Module):\n",
    "    def __init__(self, num_vocabs, hidden_size, embedding_dim, dropout_p=0.1, max_length=30):\n",
    "        super(AttentionDecoder, self).__init__()\n",
    "        self.hidden_size = hidden_size\n",
    "        self.max_length = max_length\n",
    "\n",
    "        self.embedding = nn.Embedding(num_vocabs, embedding_dim)\n",
    "        self.attn = nn.Linear(hidden_size + embedding_dim , max_length)\n",
    "        self.attn_combine = nn.Linear(hidden_size + embedding_dim, hidden_size)\n",
    "        self.dropout = nn.Dropout(dropout_p)\n",
    "        self.gru = nn.GRU(hidden_size, hidden_size)\n",
    "        self.out = nn.Linear(hidden_size, num_vocabs)\n",
    "\n",
    "    def forward(self, x, hidden, encoder_outputs):\n",
    "        # x: (1, 1) 1개의 토큰\n",
    "        embedded = self.embedding(x).view(1, 1, -1)\n",
    "        # embedded: (1, 1, 1)\n",
    "        embedded = self.dropout(embedded)\n",
    "        x = self.gru(embedded)\n",
    "\n",
    "        \n",
    "        # embedded[0]: (1, embedding_dim)\n",
    "        # hidden[0]: (1, hidden_size)\n",
    "        attn_in = torch.cat((x[0], hidden[0]), 1)\n",
    "        # attn_in: (1, embedding_dim + hidden_size)\n",
    "                            \n",
    "        attn = self.attn(attn_in)\n",
    "        # attn: (1, max_length)\n",
    "                         \n",
    "        attn_weights = F.softmax(attn)\n",
    "        # attn_weights: (1, max_length)\n",
    "        \n",
    "        # (1, 1, max_length), (1, max_length, hidden_size)\n",
    "        attn_applied = torch.bmm(attn_weights.unsqueeze(0), encoder_outputs.unsqueeze(0))\n",
    "        # attn_applied: (1, 1, hidden_size)\n",
    "\n",
    "        # embedded[0]: (1, embedding_dim)\n",
    "        # attn_applied[0]: (1, hidden_size)\n",
    "        output = torch.cat((embedded[0], attn_applied[0]), 1)\n",
    "        # output: (1, embedding_dim + hidden_size)\n",
    "        \n",
    "        output = self.attn_combine(output)\n",
    "        # output: (1, hidden_size)\n",
    "        output = output.unsqueeze(0)\n",
    "        # output: (1, 1, hidden_size)\n",
    "\n",
    "        output = F.relu(output)\n",
    "        # output: (1, 1, hidden_size)\n",
    "        \n",
    "        # output: (1, 1, hidden_size)\n",
    "        # hidden: (1, 1, hidden_size)\n",
    "        output, hidden = self.gru(output, hidden)\n",
    "        # output: (1, 1, hidden_size)\n",
    "        # hidden: (1, 1, hidden_size)\n",
    "        \n",
    "        # output[0]: (1, hidden_size)\n",
    "        output = self.out(output[0])\n",
    "        # output: (1, number of vocabs)\n",
    "        \n",
    "        # output[0]: (number of vocabs)\n",
    "        # hidden: (1, 1, hidden_size)\n",
    "        # attn_weights: (1, max_length)\n",
    "        return output[0], hidden, attn_weights\n",
    "\n",
    "    def initHidden(self, device):\n",
    "        # (Bidirectional(1) x number of layers(1), batch_size, hidden_size(32))\n",
    "        return torch.zeros(1, 1, self.hidden_size, device=device)"
   ]
  },
  {
   "cell_type": "markdown",
   "metadata": {},
   "source": [
    "# 학습"
   ]
  },
  {
   "cell_type": "code",
   "execution_count": 21,
   "metadata": {},
   "outputs": [],
   "source": [
    "SOS_TOKEN = dataset.SOS_TOKEN\n",
    "EOS_TOKEN = dataset.EOS_TOKEN"
   ]
  },
  {
   "cell_type": "code",
   "execution_count": 22,
   "metadata": {},
   "outputs": [],
   "source": [
    "# 훈련시 training loss 를 출력하기 위한 util 함수\n",
    "def showPlot(points):\n",
    "    plt.figure()\n",
    "    fig, ax = plt.subplots()\n",
    "    # 주기적인 간격에 이 locator가 tick을 설정\n",
    "    loc = ticker.MultipleLocator(base=0.2)\n",
    "    ax.yaxis.set_major_locator(loc)\n",
    "    plt.plot(points)\n",
    "    plt.title('Losses over training')\n",
    "    plt.show()\n",
    "    \n",
    "# 훈련시 시간 출력을 위한 util 함수\n",
    "def as_minutes(s):\n",
    "    m = math.floor(s / 60)\n",
    "    s -= m * 60\n",
    "    return f'{int(m)}m {int(s)}s'\n",
    "\n",
    "# 훈련시 시간 출력을 위한 util 함수\n",
    "def time_since(since, percent):\n",
    "    now = time.time()\n",
    "    s = now - since\n",
    "    es = s / (percent)\n",
    "    rs = es - s\n",
    "    return f'{as_minutes(s)} (remaining: {as_minutes(rs)})'"
   ]
  },
  {
   "cell_type": "code",
   "execution_count": 23,
   "metadata": {},
   "outputs": [],
   "source": [
    "def train(input_tensor, target_tensor, encoder, decoder, encoder_optimizer, \n",
    "          decoder_optimizer, criterion, device, max_length=30, teacher_forcing_ratio=0.5):\n",
    "    \n",
    "    # Encoder의 hidden_state 초기화\n",
    "    encoder_hidden = encoder.init_hidden(device=device)\n",
    "\n",
    "    encoder_optimizer.zero_grad()\n",
    "    decoder_optimizer.zero_grad()\n",
    "\n",
    "    # input_length: 입력 문장의 길이\n",
    "    # target_length: 출력 문장의 길이\n",
    "    input_length = input_tensor.size(0)\n",
    "    target_length = target_tensor.size(0)\n",
    "\n",
    "    # Encoder의 출력 결과를 담을 tensor\n",
    "    # (문장의 max_length, encoder의 hidden_size)\n",
    "    encoder_outputs = torch.zeros(max_length, encoder.hidden_size, device=device)\n",
    "\n",
    "    loss = 0\n",
    "\n",
    "    for ei in range(input_length):\n",
    "        encoder_output, encoder_hidden = encoder(input_tensor[ei], encoder_hidden)\n",
    "        # Encoder의 출력을 encoder_outputs[ei] 에 저장\n",
    "        # encoder_output[0, 0]: (hidden_size,)\n",
    "        encoder_outputs[ei] = encoder_output[0, 0]\n",
    "\n",
    "    # Decoder의 첫 토큰은 SOS_TOKEN\n",
    "    decoder_input = torch.tensor([[SOS_TOKEN]], device=device)\n",
    "\n",
    "    # Encoder의 마지막 hidden state를 Decoder의 초기 hidden state로 지정\n",
    "    decoder_hidden = encoder_hidden\n",
    "\n",
    "    # teacher forcing 적용 여부 확률로 결정\n",
    "    # teacher forcing 이란: 정답치를 다음 RNN Cell의 입력으로 넣어주는 경우. 수렴속도가 빠를 수 있으나, 불안정할 수 있음\n",
    "    use_teacher_forcing = True if random.random() < teacher_forcing_ratio else False\n",
    "\n",
    "    for di in range(target_length):\n",
    "        decoder_output, decoder_hidden, decoder_attention = decoder(decoder_input, decoder_hidden, encoder_outputs)\n",
    "\n",
    "        # loss 계산\n",
    "        loss += criterion(decoder_output.view(1, -1), target_tensor[di])\n",
    "\n",
    "        if use_teacher_forcing:\n",
    "            # teacher forcing 적용: 정답 값 입력\n",
    "            decoder_input = target_tensor[di]\n",
    "        else:\n",
    "            # 확률, 인덱스\n",
    "            topv, topi = decoder_output.topk(1)\n",
    "            # 다음 입력으로 주입할 디코더 최종 토큰 결정\n",
    "            decoder_input = topi.squeeze().detach()  # 입력으로 사용할 부분을 히스토리에서 분리\n",
    "\n",
    "        # EOS_TOKEN 이면 종료\n",
    "        if decoder_input.item() == EOS_TOKEN:\n",
    "            break\n",
    "\n",
    "    loss.backward()\n",
    "    \n",
    "    encoder_optimizer.step()\n",
    "    decoder_optimizer.step()\n",
    "\n",
    "    return loss.item() / target_length"
   ]
  },
  {
   "cell_type": "code",
   "execution_count": 24,
   "metadata": {},
   "outputs": [],
   "source": [
    "def train_iterations(encoder, decoder, n_iters, dataset, device, print_every=1000, plot_every=100, learning_rate=0.001):\n",
    "    start = time.time()\n",
    "    plot_losses = []\n",
    "    print_loss_total = 0  # print_every 마다 초기화\n",
    "    plot_loss_total = 0  # plot_every 마다 초기화\n",
    "\n",
    "    encoder_optimizer = optim.Adam(encoder.parameters(), lr=learning_rate)\n",
    "    decoder_optimizer = optim.Adam(decoder.parameters(), lr=learning_rate)\n",
    "    \n",
    "    # 랜덤 샘플링된 데이터셋 생성\n",
    "    training_pairs = [dataset[random.randint(0, len(dataset)-1)] for i in range(n_iters)]\n",
    "    \n",
    "    # Loss Function 정의\n",
    "    criterion = nn.CrossEntropyLoss()\n",
    "\n",
    "    # n_iters 만큼 training 시작\n",
    "    for iter in range(1, n_iters + 1):\n",
    "        # 문장 pair\n",
    "        training_pair = training_pairs[iter - 1]        \n",
    "        # 입력 문장\n",
    "        input_tensor = training_pair[0]\n",
    "        # 출력 문장\n",
    "        target_tensor = training_pair[1]\n",
    "        \n",
    "        input_tensor = input_tensor.to(device)\n",
    "        target_tensor = target_tensor.to(device)\n",
    "\n",
    "        # 훈련\n",
    "        loss = train(input_tensor, target_tensor, encoder, decoder, encoder_optimizer, \n",
    "                     decoder_optimizer, criterion, device)\n",
    "        \n",
    "        print_loss_total += loss\n",
    "        plot_loss_total += loss\n",
    "\n",
    "        # print_every 마다 loss 출력\n",
    "        if iter % print_every == 0:\n",
    "            print_loss_avg = print_loss_total / print_every\n",
    "            print_loss_total = 0\n",
    "            print(f'{time_since(start, iter/n_iters)} iter: {iter} ({iter/n_iters*100:.1f}%), loss: {print_loss_avg:.4f}')\n",
    "\n",
    "        # plot_every 마다 loss 시각화\n",
    "        if iter % plot_every == 0:\n",
    "            plot_loss_avg = plot_loss_total / plot_every\n",
    "            plot_losses.append(plot_loss_avg)\n",
    "            plot_loss_total = 0\n",
    "\n",
    "    showPlot(plot_losses)"
   ]
  },
  {
   "cell_type": "code",
   "execution_count": 25,
   "metadata": {},
   "outputs": [
    {
     "ename": "RuntimeError",
     "evalue": "CUDA error: invalid device ordinal\nCUDA kernel errors might be asynchronously reported at some other API call, so the stacktrace below might be incorrect.\nFor debugging consider passing CUDA_LAUNCH_BLOCKING=1.\nCompile with `TORCH_USE_CUDA_DSA` to enable device-side assertions.\n",
     "output_type": "error",
     "traceback": [
      "\u001b[0;31m---------------------------------------------------------------------------\u001b[0m",
      "\u001b[0;31mRuntimeError\u001b[0m                              Traceback (most recent call last)",
      "Cell \u001b[0;32mIn[25], line 20\u001b[0m\n\u001b[1;32m     13\u001b[0m decoder \u001b[39m=\u001b[39m AttentionDecoder(num_vocabs\u001b[39m=\u001b[39mNUM_VOCABS, \n\u001b[1;32m     14\u001b[0m                            hidden_size\u001b[39m=\u001b[39mHIDDEN_SIZE, \n\u001b[1;32m     15\u001b[0m                            embedding_dim\u001b[39m=\u001b[39mEMBEDDING_DIM, \n\u001b[1;32m     16\u001b[0m                            dropout_p\u001b[39m=\u001b[39mDROPOUT_P, \n\u001b[1;32m     17\u001b[0m                            max_length\u001b[39m=\u001b[39m\u001b[39m30\u001b[39m)\n\u001b[1;32m     19\u001b[0m \u001b[39m# encoder, decoder 생성 및 device 지정\u001b[39;00m\n\u001b[0;32m---> 20\u001b[0m encoder \u001b[39m=\u001b[39m encoder\u001b[39m.\u001b[39;49mto(device)\n\u001b[1;32m     21\u001b[0m decoder \u001b[39m=\u001b[39m decoder\u001b[39m.\u001b[39mto(device)\n",
      "File \u001b[0;32m~/.conda/envs/th/lib/python3.8/site-packages/torch/nn/modules/module.py:1145\u001b[0m, in \u001b[0;36mModule.to\u001b[0;34m(self, *args, **kwargs)\u001b[0m\n\u001b[1;32m   1141\u001b[0m         \u001b[39mreturn\u001b[39;00m t\u001b[39m.\u001b[39mto(device, dtype \u001b[39mif\u001b[39;00m t\u001b[39m.\u001b[39mis_floating_point() \u001b[39mor\u001b[39;00m t\u001b[39m.\u001b[39mis_complex() \u001b[39melse\u001b[39;00m \u001b[39mNone\u001b[39;00m,\n\u001b[1;32m   1142\u001b[0m                     non_blocking, memory_format\u001b[39m=\u001b[39mconvert_to_format)\n\u001b[1;32m   1143\u001b[0m     \u001b[39mreturn\u001b[39;00m t\u001b[39m.\u001b[39mto(device, dtype \u001b[39mif\u001b[39;00m t\u001b[39m.\u001b[39mis_floating_point() \u001b[39mor\u001b[39;00m t\u001b[39m.\u001b[39mis_complex() \u001b[39melse\u001b[39;00m \u001b[39mNone\u001b[39;00m, non_blocking)\n\u001b[0;32m-> 1145\u001b[0m \u001b[39mreturn\u001b[39;00m \u001b[39mself\u001b[39;49m\u001b[39m.\u001b[39;49m_apply(convert)\n",
      "File \u001b[0;32m~/.conda/envs/th/lib/python3.8/site-packages/torch/nn/modules/module.py:797\u001b[0m, in \u001b[0;36mModule._apply\u001b[0;34m(self, fn)\u001b[0m\n\u001b[1;32m    795\u001b[0m \u001b[39mdef\u001b[39;00m \u001b[39m_apply\u001b[39m(\u001b[39mself\u001b[39m, fn):\n\u001b[1;32m    796\u001b[0m     \u001b[39mfor\u001b[39;00m module \u001b[39min\u001b[39;00m \u001b[39mself\u001b[39m\u001b[39m.\u001b[39mchildren():\n\u001b[0;32m--> 797\u001b[0m         module\u001b[39m.\u001b[39;49m_apply(fn)\n\u001b[1;32m    799\u001b[0m     \u001b[39mdef\u001b[39;00m \u001b[39mcompute_should_use_set_data\u001b[39m(tensor, tensor_applied):\n\u001b[1;32m    800\u001b[0m         \u001b[39mif\u001b[39;00m torch\u001b[39m.\u001b[39m_has_compatible_shallow_copy_type(tensor, tensor_applied):\n\u001b[1;32m    801\u001b[0m             \u001b[39m# If the new tensor has compatible tensor type as the existing tensor,\u001b[39;00m\n\u001b[1;32m    802\u001b[0m             \u001b[39m# the current behavior is to change the tensor in-place using `.data =`,\u001b[39;00m\n\u001b[0;32m   (...)\u001b[0m\n\u001b[1;32m    807\u001b[0m             \u001b[39m# global flag to let the user control whether they want the future\u001b[39;00m\n\u001b[1;32m    808\u001b[0m             \u001b[39m# behavior of overwriting the existing tensor or not.\u001b[39;00m\n",
      "File \u001b[0;32m~/.conda/envs/th/lib/python3.8/site-packages/torch/nn/modules/module.py:820\u001b[0m, in \u001b[0;36mModule._apply\u001b[0;34m(self, fn)\u001b[0m\n\u001b[1;32m    816\u001b[0m \u001b[39m# Tensors stored in modules are graph leaves, and we don't want to\u001b[39;00m\n\u001b[1;32m    817\u001b[0m \u001b[39m# track autograd history of `param_applied`, so we have to use\u001b[39;00m\n\u001b[1;32m    818\u001b[0m \u001b[39m# `with torch.no_grad():`\u001b[39;00m\n\u001b[1;32m    819\u001b[0m \u001b[39mwith\u001b[39;00m torch\u001b[39m.\u001b[39mno_grad():\n\u001b[0;32m--> 820\u001b[0m     param_applied \u001b[39m=\u001b[39m fn(param)\n\u001b[1;32m    821\u001b[0m should_use_set_data \u001b[39m=\u001b[39m compute_should_use_set_data(param, param_applied)\n\u001b[1;32m    822\u001b[0m \u001b[39mif\u001b[39;00m should_use_set_data:\n",
      "File \u001b[0;32m~/.conda/envs/th/lib/python3.8/site-packages/torch/nn/modules/module.py:1143\u001b[0m, in \u001b[0;36mModule.to.<locals>.convert\u001b[0;34m(t)\u001b[0m\n\u001b[1;32m   1140\u001b[0m \u001b[39mif\u001b[39;00m convert_to_format \u001b[39mis\u001b[39;00m \u001b[39mnot\u001b[39;00m \u001b[39mNone\u001b[39;00m \u001b[39mand\u001b[39;00m t\u001b[39m.\u001b[39mdim() \u001b[39min\u001b[39;00m (\u001b[39m4\u001b[39m, \u001b[39m5\u001b[39m):\n\u001b[1;32m   1141\u001b[0m     \u001b[39mreturn\u001b[39;00m t\u001b[39m.\u001b[39mto(device, dtype \u001b[39mif\u001b[39;00m t\u001b[39m.\u001b[39mis_floating_point() \u001b[39mor\u001b[39;00m t\u001b[39m.\u001b[39mis_complex() \u001b[39melse\u001b[39;00m \u001b[39mNone\u001b[39;00m,\n\u001b[1;32m   1142\u001b[0m                 non_blocking, memory_format\u001b[39m=\u001b[39mconvert_to_format)\n\u001b[0;32m-> 1143\u001b[0m \u001b[39mreturn\u001b[39;00m t\u001b[39m.\u001b[39;49mto(device, dtype \u001b[39mif\u001b[39;49;00m t\u001b[39m.\u001b[39;49mis_floating_point() \u001b[39mor\u001b[39;49;00m t\u001b[39m.\u001b[39;49mis_complex() \u001b[39melse\u001b[39;49;00m \u001b[39mNone\u001b[39;49;00m, non_blocking)\n",
      "\u001b[0;31mRuntimeError\u001b[0m: CUDA error: invalid device ordinal\nCUDA kernel errors might be asynchronously reported at some other API call, so the stacktrace below might be incorrect.\nFor debugging consider passing CUDA_LAUNCH_BLOCKING=1.\nCompile with `TORCH_USE_CUDA_DSA` to enable device-side assertions.\n"
     ]
    }
   ],
   "source": [
    "NUM_VOCABS = dataset.wordvocab.n_words\n",
    "HIDDEN_SIZE = 512\n",
    "EMBEDDING_DIM = 256\n",
    "DROPOUT_P = 0.1\n",
    "\n",
    "# Encoder 정의\n",
    "encoder = Encoder(NUM_VOCABS, \n",
    "                  hidden_size=HIDDEN_SIZE, \n",
    "                  embedding_dim=EMBEDDING_DIM, \n",
    "                  num_layers=1)\n",
    "\n",
    "# Attention 이 적용된 Decoder 정의\n",
    "decoder = AttentionDecoder(num_vocabs=NUM_VOCABS, \n",
    "                           hidden_size=HIDDEN_SIZE, \n",
    "                           embedding_dim=EMBEDDING_DIM, \n",
    "                           dropout_p=DROPOUT_P, \n",
    "                           max_length=30)\n",
    "\n",
    "# encoder, decoder 생성 및 device 지정\n",
    "encoder = encoder.to(device)\n",
    "decoder = decoder.to(device)"
   ]
  },
  {
   "cell_type": "code",
   "execution_count": 38,
   "metadata": {},
   "outputs": [
    {
     "name": "stderr",
     "output_type": "stream",
     "text": [
      "/tmp/ipykernel_82810/4007744478.py:29: UserWarning: Implicit dimension choice for softmax has been deprecated. Change the call to include dim=X as an argument.\n",
      "  attn_weights = F.softmax(attn)\n"
     ]
    },
    {
     "name": "stdout",
     "output_type": "stream",
     "text": [
      "2m 57s (remaining: 56m 12s) iter: 5000 (5.0%), loss: 4.8963\n",
      "5m 41s (remaining: 51m 16s) iter: 10000 (10.0%), loss: 4.2910\n",
      "8m 27s (remaining: 47m 57s) iter: 15000 (15.0%), loss: 3.8696\n",
      "11m 13s (remaining: 44m 52s) iter: 20000 (20.0%), loss: 3.5667\n",
      "13m 57s (remaining: 41m 52s) iter: 25000 (25.0%), loss: 3.3599\n",
      "16m 43s (remaining: 39m 0s) iter: 30000 (30.0%), loss: 3.1994\n",
      "19m 28s (remaining: 36m 9s) iter: 35000 (35.0%), loss: 3.0567\n",
      "22m 14s (remaining: 33m 22s) iter: 40000 (40.0%), loss: 3.0197\n",
      "25m 2s (remaining: 30m 36s) iter: 45000 (45.0%), loss: 2.9216\n",
      "27m 50s (remaining: 27m 50s) iter: 50000 (50.0%), loss: 2.8294\n",
      "30m 38s (remaining: 25m 4s) iter: 55000 (55.0%), loss: 2.7698\n",
      "33m 26s (remaining: 22m 17s) iter: 60000 (60.0%), loss: 2.7092\n",
      "36m 13s (remaining: 19m 30s) iter: 65000 (65.0%), loss: 2.6680\n",
      "39m 0s (remaining: 16m 43s) iter: 70000 (70.0%), loss: 2.6398\n",
      "41m 48s (remaining: 13m 56s) iter: 75000 (75.0%), loss: 2.5616\n",
      "44m 35s (remaining: 11m 8s) iter: 80000 (80.0%), loss: 2.4629\n",
      "47m 17s (remaining: 8m 20s) iter: 85000 (85.0%), loss: 2.5304\n",
      "50m 0s (remaining: 5m 33s) iter: 90000 (90.0%), loss: 2.4782\n",
      "52m 47s (remaining: 2m 46s) iter: 95000 (95.0%), loss: 2.4195\n",
      "55m 37s (remaining: 0m 0s) iter: 100000 (100.0%), loss: 2.4028\n"
     ]
    },
    {
     "data": {
      "text/plain": [
       "<Figure size 640x480 with 0 Axes>"
      ]
     },
     "metadata": {},
     "output_type": "display_data"
    },
    {
     "data": {
      "image/png": "[encoded data removed]",
      "text/plain": [
       "<Figure size 640x480 with 1 Axes>"
      ]
     },
     "metadata": {},
     "output_type": "display_data"
    }
   ],
   "source": [
    "train_iterations(encoder, decoder, 100000, dataset, device, print_every=5000)"
   ]
  },
  {
   "cell_type": "markdown",
   "metadata": {},
   "source": [
    "# 추론"
   ]
  },
  {
   "cell_type": "code",
   "execution_count": 39,
   "metadata": {},
   "outputs": [],
   "source": [
    "def evaluate(encoder, decoder, input_tensor, dataset, device, max_length=30):\n",
    "    # Eval 모드 설정\n",
    "    encoder.eval()\n",
    "    decoder.eval()\n",
    "    \n",
    "    with torch.no_grad():\n",
    "        input_length = input_tensor.size(0)\n",
    "        # Encoder의 hidden state 초기화\n",
    "        encoder_hidden = encoder.init_hidden(device=device)\n",
    "\n",
    "        # encoder_outputs는 Encoder를 통과한 문장의 출력\n",
    "        # (max_length, hidden_size)\n",
    "        encoder_outputs = torch.zeros(max_length, encoder.hidden_size, device=device)\n",
    "\n",
    "        # Encoder 에 입력 문자 주입 후 encoder_outputs 생성\n",
    "        for ei in range(input_length):\n",
    "            encoder_output, encoder_hidden = encoder(input_tensor[ei], encoder_hidden)\n",
    "            encoder_outputs[ei] += encoder_output[0, 0]\n",
    "\n",
    "        # Decoder의 첫 번째 입력으로 SOS_TOKEN 입력(SOS_TOKEN=0)\n",
    "        decoder_input = torch.tensor([[0]], device=device)\n",
    "\n",
    "        # Decoder의 첫 번째 hidden state는 Encoder의 마지막 hidden state 사용\n",
    "        decoder_hidden = encoder_hidden\n",
    "\n",
    "        decoded_words = []\n",
    "        decoder_attentions = torch.zeros(max_length, max_length)\n",
    "\n",
    "        for di in range(max_length):\n",
    "            # 1개의 Decoder 입력 토큰을 통과\n",
    "            decoder_output, decoder_hidden, decoder_attention = decoder(decoder_input, decoder_hidden, encoder_outputs)\n",
    "            \n",
    "            # Attention 시각화를 위한 tensor 저장\n",
    "            decoder_attentions[di] = decoder_attention.data\n",
    "\n",
    "            # 출력 토큰 예측\n",
    "            topv, topi = decoder_output.data.topk(1)\n",
    "\n",
    "            # EOS_TOKEN이면 종료\n",
    "            if topi.item() == dataset.EOS_TOKEN:\n",
    "                decoded_words.append('<EOS>')\n",
    "                break\n",
    "            else:\n",
    "                # 출력 문장에 토큰 시퀀스(index)를 단어(word)로 변환한 후 저장\n",
    "                decoded_words.append(dataset.wordvocab.index_to_word(topi.item()))\n",
    "\n",
    "            # decoder_input은 다음 토큰 예측시 입력 값\n",
    "            # decoder_input: (hidden_size,)\n",
    "            decoder_input = topi.squeeze().detach()\n",
    "\n",
    "        return decoded_words, decoder_attentions[:di + 1]\n",
    "    \n",
    "    \n",
    "def evaluate_randomly(encoder, decoder, dataset, device, n=10):\n",
    "    for i in range(n):\n",
    "        # 랜덤 샘플링\n",
    "        x, y = random.choice(dataset)\n",
    "        # 입력 문장, 출력 문장 (Ground Truth)\n",
    "        print('>', dataset.sequences_to_texts(x))\n",
    "        print('=', dataset.sequences_to_texts(y))\n",
    "\n",
    "        # 예측\n",
    "        output_words, attentions = evaluate(encoder, decoder, x.to(device), dataset, device)\n",
    "        output_sentence = ' '.join(output_words)\n",
    "        \n",
    "        # 예측 문장 출력\n",
    "        print('<', output_sentence)\n",
    "        print('')"
   ]
  },
  {
   "cell_type": "markdown",
   "metadata": {},
   "source": [
    "# Attention 가중치 시각화 "
   ]
  },
  {
   "cell_type": "code",
   "execution_count": 40,
   "metadata": {},
   "outputs": [
    {
     "name": "stderr",
     "output_type": "stream",
     "text": [
      "/tmp/ipykernel_82810/4007744478.py:29: UserWarning: Implicit dimension choice for softmax has been deprecated. Change the call to include dim=X as an argument.\n",
      "  attn_weights = F.softmax(attn)\n"
     ]
    },
    {
     "data": {
      "image/png": "[encoded data removed]",
      "text/plain": [
       "<Figure size 1600x200 with 1 Axes>"
      ]
     },
     "metadata": {},
     "output_type": "display_data"
    }
   ],
   "source": [
    "# Attention Weights를 활용한 시각화\n",
    "output_words, attentions = evaluate(encoder, decoder, dataset[2][0].to(device), dataset, device)\n",
    "plt.matshow(attentions.numpy())\n",
    "plt.show()"
   ]
  },
  {
   "cell_type": "code",
   "execution_count": 41,
   "metadata": {},
   "outputs": [],
   "source": [
    "# Attention 시각화를 위한 함수\n",
    "def show_attention(input_sentence, output_words, attentions):\n",
    "    # colorbar로 그림 설정\n",
    "    plt.rcParams['font.family'] = 'AppleGothic' # mac 사용자 한글 폰트 설정\n",
    "    fig = plt.figure()\n",
    "    ax = fig.add_subplot(111)\n",
    "    cax = ax.matshow(attentions.numpy(), cmap='bone')\n",
    "    fig.colorbar(cax)\n",
    "\n",
    "    # 축 설정\n",
    "    ax.set_xticklabels([''] + input_sentence.split(' ') + ['<EOS>'], rotation=90)\n",
    "    ax.set_yticklabels([''] + output_words)\n",
    "\n",
    "    # 매 틱마다 라벨 보여주기\n",
    "    ax.xaxis.set_major_locator(ticker.MultipleLocator(1))\n",
    "    ax.yaxis.set_major_locator(ticker.MultipleLocator(1))\n",
    "\n",
    "    plt.show()\n",
    "\n",
    "\n",
    "def evaluate_and_show_attention(encoder, decoder, input_sentence, dataset, device):\n",
    "    output_words, attentions = evaluate(encoder, decoder, input_sentence.to(device), dataset, device)\n",
    "    input_sentence = dataset.sequences_to_texts(input_sentence)\n",
    "    output_words = ' '.join(output_words)\n",
    "    print('input =', input_sentence)\n",
    "    print('output =', output_words)\n",
    "    show_attention(input_sentence, output_words.split(), attentions)"
   ]
  },
  {
   "cell_type": "code",
   "execution_count": 42,
   "metadata": {},
   "outputs": [
    {
     "name": "stderr",
     "output_type": "stream",
     "text": [
      "/tmp/ipykernel_82810/4007744478.py:29: UserWarning: Implicit dimension choice for softmax has been deprecated. Change the call to include dim=X as an argument.\n",
      "  attn_weights = F.softmax(attn)\n",
      "/tmp/ipykernel_82810/1143270574.py:10: UserWarning: FixedFormatter should only be used together with FixedLocator\n",
      "  ax.set_xticklabels([''] + input_sentence.split(' ') + ['<EOS>'], rotation=90)\n",
      "/tmp/ipykernel_82810/1143270574.py:11: UserWarning: FixedFormatter should only be used together with FixedLocator\n",
      "  ax.set_yticklabels([''] + output_words)\n",
      "/home/as9786/.conda/envs/as3/lib/python3.9/site-packages/IPython/core/pylabtools.py:152: UserWarning: Glyph 48149 (\\N{HANGUL SYLLABLE BAG}) missing from current font.\n",
      "  fig.canvas.print_figure(bytes_io, **kw)\n",
      "/home/as9786/.conda/envs/as3/lib/python3.9/site-packages/IPython/core/pylabtools.py:152: UserWarning: Glyph 51068 (\\N{HANGUL SYLLABLE IL}) missing from current font.\n",
      "  fig.canvas.print_figure(bytes_io, **kw)\n",
      "/home/as9786/.conda/envs/as3/lib/python3.9/site-packages/IPython/core/pylabtools.py:152: UserWarning: Glyph 45440 (\\N{HANGUL SYLLABLE NOL}) missing from current font.\n",
      "  fig.canvas.print_figure(bytes_io, **kw)\n",
      "/home/as9786/.conda/envs/as3/lib/python3.9/site-packages/IPython/core/pylabtools.py:152: UserWarning: Glyph 47084 (\\N{HANGUL SYLLABLE REO}) missing from current font.\n",
      "  fig.canvas.print_figure(bytes_io, **kw)\n",
      "/home/as9786/.conda/envs/as3/lib/python3.9/site-packages/IPython/core/pylabtools.py:152: UserWarning: Glyph 44032 (\\N{HANGUL SYLLABLE GA}) missing from current font.\n",
      "  fig.canvas.print_figure(bytes_io, **kw)\n",
      "/home/as9786/.conda/envs/as3/lib/python3.9/site-packages/IPython/core/pylabtools.py:152: UserWarning: Glyph 44256 (\\N{HANGUL SYLLABLE GO}) missing from current font.\n",
      "  fig.canvas.print_figure(bytes_io, **kw)\n",
      "/home/as9786/.conda/envs/as3/lib/python3.9/site-packages/IPython/core/pylabtools.py:152: UserWarning: Glyph 49910 (\\N{HANGUL SYLLABLE SIP}) missing from current font.\n",
      "  fig.canvas.print_figure(bytes_io, **kw)\n",
      "/home/as9786/.conda/envs/as3/lib/python3.9/site-packages/IPython/core/pylabtools.py:152: UserWarning: Glyph 45796 (\\N{HANGUL SYLLABLE DA}) missing from current font.\n",
      "  fig.canvas.print_figure(bytes_io, **kw)\n",
      "/home/as9786/.conda/envs/as3/lib/python3.9/site-packages/IPython/core/pylabtools.py:152: UserWarning: Glyph 52828 (\\N{HANGUL SYLLABLE CIN}) missing from current font.\n",
      "  fig.canvas.print_figure(bytes_io, **kw)\n",
      "/home/as9786/.conda/envs/as3/lib/python3.9/site-packages/IPython/core/pylabtools.py:152: UserWarning: Glyph 44396 (\\N{HANGUL SYLLABLE GU}) missing from current font.\n",
      "  fig.canvas.print_figure(bytes_io, **kw)\n",
      "/home/as9786/.conda/envs/as3/lib/python3.9/site-packages/IPython/core/pylabtools.py:152: UserWarning: Glyph 51008 (\\N{HANGUL SYLLABLE EUN}) missing from current font.\n",
      "  fig.canvas.print_figure(bytes_io, **kw)\n"
     ]
    },
    {
     "name": "stdout",
     "output_type": "stream",
     "text": [
      "input = 3 박 4일 놀러 가고 싶다 <EOS>\n",
      "output = 친구 은 <EOS>\n"
     ]
    },
    {
     "data": {
      "image/png": "[encoded data removed]",
      "text/plain": [
       "<Figure size 640x480 with 2 Axes>"
      ]
     },
     "metadata": {},
     "output_type": "display_data"
    }
   ],
   "source": [
    "evaluate_and_show_attention(encoder, decoder, dataset[2][0], dataset, device)"
   ]
  },
  {
   "cell_type": "code",
   "execution_count": null,
   "metadata": {},
   "outputs": [],
   "source": []
  }
 ],
 "metadata": {
  "kernelspec": {
   "display_name": "as3",
   "language": "python",
   "name": "python3"
  },
  "language_info": {
   "codemirror_mode": {
    "name": "ipython",
    "version": 3
   },
   "file_extension": ".py",
   "mimetype": "text/x-python",
   "name": "python",
   "nbconvert_exporter": "python",
   "pygments_lexer": "ipython3",
   "version": "3.8.17"
  },
  "orig_nbformat": 4
 },
 "nbformat": 4,
 "nbformat_minor": 2
}
